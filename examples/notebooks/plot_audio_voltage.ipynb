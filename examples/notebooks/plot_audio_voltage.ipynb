{
 "cells": [
  {
   "cell_type": "markdown",
   "metadata": {},
   "source": [
    "# Plot audio voltage\n",
    "\n",
    "This notebook plots the voltage of a badge based on the voltage stored in an audio samples file. Can be used for measuring badge battery usage and total run time"
   ]
  },
  {
   "cell_type": "code",
   "execution_count": 1,
   "metadata": {
    "collapsed": false
   },
   "outputs": [],
   "source": [
    "from __future__ import absolute_import, division, print_function\n",
    "\n",
    "import os\n",
    "import sys\n",
    "import datetime\n",
    "import pandas as pd\n",
    "import numpy as np\n",
    "#import seaborn as sns\n",
    "#sns.set(style=\"whitegrid\")\n",
    "from ggplot import *\n",
    "import gzip\n",
    "\n",
    "%matplotlib inline\n",
    "\n",
    "# add the 'src' directory as one where we can import modules\n",
    "src_dir = os.path.join(os.getcwd(), os.pardir, os.pardir)\n",
    "sys.path.append(src_dir)\n",
    "\n",
    "# import data analysis modules\n",
    "import openbadge_analysis as ob"
   ]
  },
  {
   "cell_type": "code",
   "execution_count": 2,
   "metadata": {
    "collapsed": false
   },
   "outputs": [],
   "source": [
    "# Load the \"autoreload\" extension\n",
    "%load_ext autoreload\n",
    "# always reload modules marked with \"%aimport\"\n",
    "%autoreload 1\n",
    "# list of modules to autoload\n",
    "%aimport openbadge_analysis"
   ]
  },
  {
   "cell_type": "code",
   "execution_count": 3,
   "metadata": {
    "collapsed": false
   },
   "outputs": [],
   "source": [
    "filename = '/home/orenled/temp/logs/1_log_audio.txt.gz'\n",
    "with gzip.open(filename, 'r') as f:\n",
    "    audio_chunks = ob.load_audio_chunks_as_json_objects(f, log_version='2.0')\n",
    "\n",
    "#filename = '/home/orenled/temp/logs/5.txt'\n",
    "#with open(filename, 'r') as f:\n",
    "#    audio_chunks = ob.load_audio_chunks_as_json_objects(f, log_version='2.0')"
   ]
  },
  {
   "cell_type": "code",
   "execution_count": 11,
   "metadata": {
    "collapsed": false
   },
   "outputs": [
    {
     "name": "stdout",
     "output_type": "stream",
     "text": [
      "       badge_address     timestamp  voltage\n",
      "0  E7:00:28:A7:DB:C2  1.482446e+09    2.967\n",
      "1  E7:00:28:A7:DB:C2  1.482446e+09    2.967\n",
      "2  E7:00:28:A7:DB:C2  1.482446e+09    2.967\n",
      "3  E7:00:28:A7:DB:C2  1.482446e+09    2.967\n",
      "4  E7:00:28:A7:DB:C2  1.482446e+09    2.967\n",
      "badge_address            object\n",
      "timestamp               float64\n",
      "voltage                 float64\n",
      "datetime         datetime64[ns]\n",
      "dtype: object\n"
     ]
    }
   ],
   "source": [
    "# load data into a data frame\n",
    "df_audio_voltage = pd.DataFrame(audio_chunks,columns=['badge_address','timestamp','voltage'])\n",
    "print(df_audio_voltage.head())\n",
    "\n",
    "# Converting timestamp (epoch) to UTC datetime\n",
    "df_audio_voltage['datetime'] = pd.to_datetime(df_audio_voltage['timestamp'],unit='s', utc=True)\n",
    "print(df_audio_voltage.dtypes)"
   ]
  },
  {
   "cell_type": "code",
   "execution_count": 12,
   "metadata": {
    "collapsed": false
   },
   "outputs": [],
   "source": [
    "#print(df_audio_voltage[df_audio_voltage['badge_address']=='D4:E4:47:A5:F0:B3'])\n",
    "#df_audio_voltage=df_audio_voltage[df_audio_voltage['badge_address']=='D4:E4:47:A5:F0:B3']"
   ]
  },
  {
   "cell_type": "markdown",
   "metadata": {},
   "source": [
    "# Sainty check"
   ]
  },
  {
   "cell_type": "code",
   "execution_count": 13,
   "metadata": {
    "collapsed": false
   },
   "outputs": [
    {
     "name": "stdout",
     "output_type": "stream",
     "text": [
      "Max:\n",
      "                     index     timestamp  voltage                datetime\n",
      "badge_address                                                           \n",
      "D4:E4:47:A5:F0:B3  190169  1.482854e+09    3.176 2016-12-27 15:53:33.261\n",
      "E7:00:28:A7:DB:C2  165619  1.482769e+09    3.150 2016-12-26 16:20:37.814 \n",
      "\n",
      "Min:\n",
      "                    index     timestamp  voltage                datetime\n",
      "badge_address                                                          \n",
      "D4:E4:47:A5:F0:B3     19  1.482446e+09    2.187 2016-12-22 22:36:10.602\n",
      "E7:00:28:A7:DB:C2      0  1.482446e+09    1.925 2016-12-22 22:32:51.908\n"
     ]
    }
   ],
   "source": [
    "# min/max values\n",
    "df_group_by_badge = df_audio_voltage.reset_index().groupby('badge_address')\n",
    "print(\"Max:\\n\",df_group_by_badge.max(),\"\\n\")\n",
    "print(\"Min:\\n\",df_group_by_badge.min())"
   ]
  },
  {
   "cell_type": "code",
   "execution_count": 14,
   "metadata": {
    "collapsed": false
   },
   "outputs": [
    {
     "name": "stdout",
     "output_type": "stream",
     "text": [
      "190170\n",
      "Empty DataFrame\n",
      "Columns: [badge_address, timestamp, voltage, datetime]\n",
      "Index: []\n",
      "Empty DataFrame\n",
      "Columns: [badge_address, timestamp, voltage, datetime]\n",
      "Index: []\n",
      "Empty DataFrame\n",
      "Columns: [badge_address, timestamp, voltage, datetime]\n",
      "Index: []\n",
      "Empty DataFrame\n",
      "Columns: [badge_address, timestamp, voltage, datetime]\n",
      "Index: []\n"
     ]
    }
   ],
   "source": [
    "# Nans?\n",
    "print(len(df_audio_voltage))\n",
    "print(df_audio_voltage[np.isnan(df_audio_voltage['voltage'])])\n",
    "print(df_audio_voltage[np.isnan(df_audio_voltage['timestamp'])])\n",
    "print(df_audio_voltage[df_audio_voltage['datetime'].isnull()])\n",
    "print(df_audio_voltage[df_audio_voltage['badge_address'].isnull()])"
   ]
  },
  {
   "cell_type": "markdown",
   "metadata": {},
   "source": [
    "# show voltage graphs"
   ]
  },
  {
   "cell_type": "code",
   "execution_count": 15,
   "metadata": {
    "collapsed": false
   },
   "outputs": [
    {
     "name": "stdout",
     "output_type": "stream",
     "text": [
      "                             badge_address     timestamp  voltage\n",
      "datetime                                                         \n",
      "2016-12-22 22:32:51.908  E7:00:28:A7:DB:C2  1.482446e+09    2.967\n",
      "2016-12-22 22:32:57.608  E7:00:28:A7:DB:C2  1.482446e+09    2.967\n",
      "2016-12-22 22:33:03.308  E7:00:28:A7:DB:C2  1.482446e+09    2.967\n",
      "2016-12-22 22:33:09.011  E7:00:28:A7:DB:C2  1.482446e+09    2.967\n",
      "2016-12-22 22:33:14.711  E7:00:28:A7:DB:C2  1.482446e+09    2.967\n"
     ]
    }
   ],
   "source": [
    "# Setting datetime as index\n",
    "df_audio_voltage.sort_values('datetime')\n",
    "df_audio_voltage.index = pd.to_datetime(df_audio_voltage.pop('datetime'), utc=True)\n",
    "print(df_audio_voltage.head())\n",
    "del df_audio_voltage['timestamp']"
   ]
  },
  {
   "cell_type": "code",
   "execution_count": 32,
   "metadata": {
    "collapsed": false
   },
   "outputs": [
    {
     "name": "stdout",
     "output_type": "stream",
     "text": [
      "                                       voltage\n",
      "badge_address     datetime                    \n",
      "D4:E4:47:A5:F0:B3 2016-12-22 22:36:10    3.145\n",
      "                  2016-12-22 22:36:15    3.159\n",
      "                  2016-12-22 22:36:20    3.159\n",
      "                  2016-12-22 22:36:25    3.159\n",
      "                  2016-12-22 22:36:30    3.165\n",
      "<class 'pandas.core.frame.DataFrame'>\n",
      "       badge_address            datetime  voltage\n",
      "0  D4:E4:47:A5:F0:B3 2016-12-22 22:36:10    3.145\n",
      "1  D4:E4:47:A5:F0:B3 2016-12-22 22:36:15    3.159\n",
      "2  D4:E4:47:A5:F0:B3 2016-12-22 22:36:20    3.159\n",
      "3  D4:E4:47:A5:F0:B3 2016-12-22 22:36:25    3.159\n",
      "4  D4:E4:47:A5:F0:B3 2016-12-22 22:36:30    3.165\n"
     ]
    }
   ],
   "source": [
    "# http://pandas.pydata.org/pandas-docs/stable/cookbook.html\n",
    "# http://pandas.pydata.org/pandas-docs/stable/timeseries.html#aggregation\n",
    "df_grouped = df_audio_voltage.groupby('badge_address')\n",
    "df_resampled = df_grouped.resample('5S').mean()\n",
    "print(df_resampled.head())\n",
    "print(type(df_resampled))\n",
    "\n",
    "df_flat = df_resampled.reset_index()\n",
    "print(df_flat.head())"
   ]
  },
  {
   "cell_type": "code",
   "execution_count": 43,
   "metadata": {
    "collapsed": false
   },
   "outputs": [
    {
     "data": {
      "image/png": "[encoded data removed]",
      "text/plain": [
       "<matplotlib.figure.Figure at 0x7f7ee9da3a90>"
      ]
     },
     "metadata": {},
     "output_type": "display_data"
    },
    {
     "data": {
      "text/plain": [
       "<ggplot: (8761441817253)>"
      ]
     },
     "execution_count": 43,
     "metadata": {},
     "output_type": "execute_result"
    }
   ],
   "source": [
    "ggplot(aes(x='datetime', y='voltage', color='badge_address'), data=df_flat) +\\\n",
    "    geom_line()    "
   ]
  },
  {
   "cell_type": "code",
   "execution_count": null,
   "metadata": {
    "collapsed": true
   },
   "outputs": [],
   "source": []
  }
 ],
 "metadata": {
  "kernelspec": {
   "display_name": "Python 2",
   "language": "python",
   "name": "python2"
  },
  "language_info": {
   "codemirror_mode": {
    "name": "ipython",
    "version": 2
   },
   "file_extension": ".py",
   "mimetype": "text/x-python",
   "name": "python",
   "nbconvert_exporter": "python",
   "pygments_lexer": "ipython2",
   "version": "2.7.6"
  }
 },
 "nbformat": 4,
 "nbformat_minor": 0
}
