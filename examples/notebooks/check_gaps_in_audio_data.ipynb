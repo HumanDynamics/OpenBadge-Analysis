{
 "cells": [
  {
   "cell_type": "markdown",
   "metadata": {},
   "source": [
    "In this notebook, we are looking for gaps in the audio data collected by two badges - one with an old firmware, and one with the new firmware (2.0)\n",
    "\n",
    "New badge (firmware 2.0) - D4:E4:47:A5:F0:B3\n",
    "\n",
    "Old badge - E7:00:28:A7:DB:C2"
   ]
  },
  {
   "cell_type": "code",
   "execution_count": 1,
   "metadata": {
    "collapsed": false
   },
   "outputs": [],
   "source": [
    "from __future__ import absolute_import, division, print_function\n",
    "\n",
    "import os\n",
    "import sys\n",
    "import datetime\n",
    "import pandas as pd\n",
    "import numpy as np\n",
    "import pytz\n",
    "import dateutil\n",
    "import gzip\n",
    "\n",
    "from ggplot import *\n",
    "%matplotlib inline\n",
    "\n",
    "# add the 'src' directory as one where we can import modules\n",
    "src_dir = os.path.join(os.getcwd(), os.pardir, os.pardir)\n",
    "sys.path.append(src_dir)\n",
    "\n",
    "# import data analysis modules\n",
    "import openbadge_analysis as ob"
   ]
  },
  {
   "cell_type": "code",
   "execution_count": 2,
   "metadata": {
    "collapsed": false
   },
   "outputs": [],
   "source": [
    "# Load the \"autoreload\" extension\n",
    "%load_ext autoreload\n",
    "# always reload modules marked with \"%aimport\"\n",
    "%autoreload 1\n",
    "# list of modules to autoload\n",
    "%aimport openbadge_analysis"
   ]
  },
  {
   "cell_type": "code",
   "execution_count": 3,
   "metadata": {
    "collapsed": false
   },
   "outputs": [],
   "source": [
    "filename = '/home/orenled/temp/logs/1_log_audio.txt.gz'\n",
    "log_filename = '/home/orenled/temp/logs/1_server.log.gz'"
   ]
  },
  {
   "cell_type": "code",
   "execution_count": 4,
   "metadata": {
    "collapsed": true
   },
   "outputs": [],
   "source": [
    "with gzip.open(filename, 'r') as f:\n",
    "    audio_chunks = ob.load_audio_chunks_as_json_objects(f, log_version='2.0')"
   ]
  },
  {
   "cell_type": "code",
   "execution_count": 5,
   "metadata": {
    "collapsed": false
   },
   "outputs": [
    {
     "name": "stdout",
     "output_type": "stream",
     "text": [
      "                                      badge_address     timestamp\n",
      "datetime                                                         \n",
      "2016-12-22 22:32:51.908000+00:00  E7:00:28:A7:DB:C2  1.482446e+09\n",
      "2016-12-22 22:32:57.608000+00:00  E7:00:28:A7:DB:C2  1.482446e+09\n",
      "2016-12-22 22:33:03.308000+00:00  E7:00:28:A7:DB:C2  1.482446e+09\n",
      "2016-12-22 22:33:09.011000+00:00  E7:00:28:A7:DB:C2  1.482446e+09\n",
      "2016-12-22 22:33:14.711000+00:00  E7:00:28:A7:DB:C2  1.482446e+09\n",
      "2016-12-22 22:33:20.411000+00:00  E7:00:28:A7:DB:C2  1.482446e+09\n",
      "2016-12-22 22:33:26.111000+00:00  E7:00:28:A7:DB:C2  1.482446e+09\n",
      "2016-12-22 22:33:31.812000+00:00  E7:00:28:A7:DB:C2  1.482446e+09\n",
      "2016-12-22 22:33:37.512000+00:00  E7:00:28:A7:DB:C2  1.482446e+09\n",
      "2016-12-22 22:33:43.214000+00:00  E7:00:28:A7:DB:C2  1.482446e+09\n",
      "badge_address     object\n",
      "timestamp        float64\n",
      "dtype: object\n"
     ]
    }
   ],
   "source": [
    "# load data into a data frame\n",
    "df = pd.DataFrame(audio_chunks,columns=['badge_address','timestamp'])\n",
    "\n",
    "# Converting timestamp (epoch) to UTC datetime\n",
    "df['datetime'] = pd.to_datetime(df['timestamp'],unit='s', utc=True)\n",
    "\n",
    "# Setting datetime as index\n",
    "df.sort_values('datetime')\n",
    "df.index = pd.to_datetime(df.pop('datetime'), utc=True)\n",
    "df = df.tz_localize('UTC')\n",
    "\n",
    "print(df.head(10))\n",
    "print(df.dtypes)"
   ]
  },
  {
   "cell_type": "markdown",
   "metadata": {
    "collapsed": false
   },
   "source": [
    "# Sainty check -Nans?"
   ]
  },
  {
   "cell_type": "code",
   "execution_count": 6,
   "metadata": {
    "collapsed": false
   },
   "outputs": [
    {
     "data": {
      "text/plain": [
       "0"
      ]
     },
     "execution_count": 6,
     "metadata": {},
     "output_type": "execute_result"
    }
   ],
   "source": [
    "df.timestamp.isnull().sum()"
   ]
  },
  {
   "cell_type": "markdown",
   "metadata": {},
   "source": [
    "# Check for gaps in data"
   ]
  },
  {
   "cell_type": "markdown",
   "metadata": {},
   "source": [
    "calculations are per-badge, so we must group by badges first"
   ]
  },
  {
   "cell_type": "code",
   "execution_count": 7,
   "metadata": {
    "collapsed": false
   },
   "outputs": [],
   "source": [
    "grp = df.groupby('badge_address')"
   ]
  },
  {
   "cell_type": "markdown",
   "metadata": {},
   "source": [
    "Looking at the data to make sure there are no suprises"
   ]
  },
  {
   "cell_type": "code",
   "execution_count": 8,
   "metadata": {
    "collapsed": false
   },
   "outputs": [
    {
     "name": "stdout",
     "output_type": "stream",
     "text": [
      "-----------------------\n",
      "Badge:\n",
      "D4:E4:47:A5:F0:B3\n",
      "Index:\n",
      "DatetimeIndex(['2016-12-22 22:36:10.602000+00:00',\n",
      "               '2016-12-22 22:36:10.602000+00:00',\n",
      "               '2016-12-22 22:36:16.304000+00:00',\n",
      "               '2016-12-22 22:36:22.002000+00:00',\n",
      "               '2016-12-22 22:36:22.002000+00:00',\n",
      "               '2016-12-22 22:36:27.702000+00:00',\n",
      "               '2016-12-22 22:36:33.401000+00:00',\n",
      "               '2016-12-22 22:36:33.401000+00:00',\n",
      "               '2016-12-22 22:36:39.099000+00:00',\n",
      "               '2016-12-22 22:36:44.798000+00:00',\n",
      "               ...\n",
      "               '2016-12-27 15:52:59.067000+00:00',\n",
      "               '2016-12-27 15:53:04.766000+00:00',\n",
      "               '2016-12-27 15:53:04.766000+00:00',\n",
      "               '2016-12-27 15:53:10.467000+00:00',\n",
      "               '2016-12-27 15:53:16.165000+00:00',\n",
      "               '2016-12-27 15:53:16.165000+00:00',\n",
      "               '2016-12-27 15:53:21.862000+00:00',\n",
      "               '2016-12-27 15:53:21.862000+00:00',\n",
      "               '2016-12-27 15:53:27.562000+00:00',\n",
      "               '2016-12-27 15:53:33.261000+00:00'],\n",
      "              dtype='datetime64[ns, UTC]', name=u'datetime', length=108036, freq=None)\n",
      "Data smaple:\n",
      "                                      badge_address     timestamp\n",
      "datetime                                                         \n",
      "2016-12-22 22:36:10.602000+00:00  D4:E4:47:A5:F0:B3  1.482446e+09\n",
      "2016-12-22 22:36:10.602000+00:00  D4:E4:47:A5:F0:B3  1.482446e+09\n",
      "2016-12-22 22:36:16.304000+00:00  D4:E4:47:A5:F0:B3  1.482446e+09\n",
      "2016-12-22 22:36:22.002000+00:00  D4:E4:47:A5:F0:B3  1.482446e+09\n",
      "2016-12-22 22:36:22.002000+00:00  D4:E4:47:A5:F0:B3  1.482446e+09\n",
      "2016-12-22 22:36:27.702000+00:00  D4:E4:47:A5:F0:B3  1.482446e+09\n",
      "2016-12-22 22:36:33.401000+00:00  D4:E4:47:A5:F0:B3  1.482446e+09\n",
      "2016-12-22 22:36:33.401000+00:00  D4:E4:47:A5:F0:B3  1.482446e+09\n",
      "2016-12-22 22:36:39.099000+00:00  D4:E4:47:A5:F0:B3  1.482446e+09\n",
      "2016-12-22 22:36:44.798000+00:00  D4:E4:47:A5:F0:B3  1.482446e+09\n",
      "-----------------------\n",
      "Badge:\n",
      "E7:00:28:A7:DB:C2\n",
      "Index:\n",
      "DatetimeIndex(['2016-12-22 22:32:51.908000+00:00',\n",
      "               '2016-12-22 22:32:57.608000+00:00',\n",
      "               '2016-12-22 22:33:03.308000+00:00',\n",
      "               '2016-12-22 22:33:09.011000+00:00',\n",
      "               '2016-12-22 22:33:14.711000+00:00',\n",
      "               '2016-12-22 22:33:20.411000+00:00',\n",
      "               '2016-12-22 22:33:26.111000+00:00',\n",
      "               '2016-12-22 22:33:31.812000+00:00',\n",
      "               '2016-12-22 22:33:37.512000+00:00',\n",
      "               '2016-12-22 22:33:43.214000+00:00',\n",
      "               ...\n",
      "               '2016-12-26 16:18:51.576000+00:00',\n",
      "               '2016-12-26 16:18:51.576000+00:00',\n",
      "               '2016-12-26 16:19:15.566000+00:00',\n",
      "               '2016-12-26 16:19:15.566000+00:00',\n",
      "               '2016-12-26 16:19:15.566000+00:00',\n",
      "               '2016-12-26 16:19:51.832000+00:00',\n",
      "               '2016-12-26 16:20:03.544000+00:00',\n",
      "               '2016-12-26 16:20:03.544000+00:00',\n",
      "               '2016-12-26 16:20:26.311000+00:00',\n",
      "               '2016-12-26 16:20:37.814000+00:00'],\n",
      "              dtype='datetime64[ns, UTC]', name=u'datetime', length=82134, freq=None)\n",
      "Data smaple:\n",
      "                                      badge_address     timestamp\n",
      "datetime                                                         \n",
      "2016-12-22 22:32:51.908000+00:00  E7:00:28:A7:DB:C2  1.482446e+09\n",
      "2016-12-22 22:32:57.608000+00:00  E7:00:28:A7:DB:C2  1.482446e+09\n",
      "2016-12-22 22:33:03.308000+00:00  E7:00:28:A7:DB:C2  1.482446e+09\n",
      "2016-12-22 22:33:09.011000+00:00  E7:00:28:A7:DB:C2  1.482446e+09\n",
      "2016-12-22 22:33:14.711000+00:00  E7:00:28:A7:DB:C2  1.482446e+09\n",
      "2016-12-22 22:33:20.411000+00:00  E7:00:28:A7:DB:C2  1.482446e+09\n",
      "2016-12-22 22:33:26.111000+00:00  E7:00:28:A7:DB:C2  1.482446e+09\n",
      "2016-12-22 22:33:31.812000+00:00  E7:00:28:A7:DB:C2  1.482446e+09\n",
      "2016-12-22 22:33:37.512000+00:00  E7:00:28:A7:DB:C2  1.482446e+09\n",
      "2016-12-22 22:33:43.214000+00:00  E7:00:28:A7:DB:C2  1.482446e+09\n"
     ]
    }
   ],
   "source": [
    "for badge_data in grp:\n",
    "    print(\"-----------------------\")\n",
    "    print(\"Badge:\")    \n",
    "    print(badge_data[0])\n",
    "    print(\"Index:\")\n",
    "    print(badge_data[1].index)\n",
    "    print(\"Data smaple:\")    \n",
    "    print(badge_data[1].head(10))\n"
   ]
  },
  {
   "cell_type": "code",
   "execution_count": 9,
   "metadata": {
    "collapsed": false
   },
   "outputs": [
    {
     "name": "stdout",
     "output_type": "stream",
     "text": [
      "DatetimeIndex(['2016-12-22 22:32:51.908000+00:00',\n",
      "               '2016-12-22 22:32:57.608000+00:00',\n",
      "               '2016-12-22 22:33:03.308000+00:00',\n",
      "               '2016-12-22 22:33:09.011000+00:00',\n",
      "               '2016-12-22 22:33:14.711000+00:00',\n",
      "               '2016-12-22 22:33:20.411000+00:00',\n",
      "               '2016-12-22 22:33:26.111000+00:00',\n",
      "               '2016-12-22 22:33:31.812000+00:00',\n",
      "               '2016-12-22 22:33:37.512000+00:00',\n",
      "               '2016-12-22 22:33:43.214000+00:00',\n",
      "               ...\n",
      "               '2016-12-27 15:52:59.067000+00:00',\n",
      "               '2016-12-27 15:53:04.766000+00:00',\n",
      "               '2016-12-27 15:53:04.766000+00:00',\n",
      "               '2016-12-27 15:53:10.467000+00:00',\n",
      "               '2016-12-27 15:53:16.165000+00:00',\n",
      "               '2016-12-27 15:53:16.165000+00:00',\n",
      "               '2016-12-27 15:53:21.862000+00:00',\n",
      "               '2016-12-27 15:53:21.862000+00:00',\n",
      "               '2016-12-27 15:53:27.562000+00:00',\n",
      "               '2016-12-27 15:53:33.261000+00:00'],\n",
      "              dtype='datetime64[ns, UTC]', name=u'datetime', length=190170, freq=None)\n",
      "                                      badge_address     timestamp  \\\n",
      "datetime                                                            \n",
      "2016-12-22 22:32:51.908000+00:00  E7:00:28:A7:DB:C2  1.482446e+09   \n",
      "2016-12-22 22:32:57.608000+00:00  E7:00:28:A7:DB:C2  1.482446e+09   \n",
      "2016-12-22 22:33:03.308000+00:00  E7:00:28:A7:DB:C2  1.482446e+09   \n",
      "2016-12-22 22:33:09.011000+00:00  E7:00:28:A7:DB:C2  1.482446e+09   \n",
      "2016-12-22 22:33:14.711000+00:00  E7:00:28:A7:DB:C2  1.482446e+09   \n",
      "2016-12-22 22:33:20.411000+00:00  E7:00:28:A7:DB:C2  1.482446e+09   \n",
      "2016-12-22 22:33:26.111000+00:00  E7:00:28:A7:DB:C2  1.482446e+09   \n",
      "2016-12-22 22:33:31.812000+00:00  E7:00:28:A7:DB:C2  1.482446e+09   \n",
      "2016-12-22 22:33:37.512000+00:00  E7:00:28:A7:DB:C2  1.482446e+09   \n",
      "2016-12-22 22:33:43.214000+00:00  E7:00:28:A7:DB:C2  1.482446e+09   \n",
      "2016-12-22 22:33:48.914000+00:00  E7:00:28:A7:DB:C2  1.482446e+09   \n",
      "2016-12-22 22:33:54.614000+00:00  E7:00:28:A7:DB:C2  1.482446e+09   \n",
      "2016-12-22 22:34:00.315000+00:00  E7:00:28:A7:DB:C2  1.482446e+09   \n",
      "2016-12-22 22:34:06.015000+00:00  E7:00:28:A7:DB:C2  1.482446e+09   \n",
      "2016-12-22 22:34:11.716000+00:00  E7:00:28:A7:DB:C2  1.482446e+09   \n",
      "2016-12-22 22:34:17.416000+00:00  E7:00:28:A7:DB:C2  1.482446e+09   \n",
      "2016-12-22 22:34:23.116000+00:00  E7:00:28:A7:DB:C2  1.482446e+09   \n",
      "2016-12-22 22:34:28.816000+00:00  E7:00:28:A7:DB:C2  1.482446e+09   \n",
      "2016-12-22 22:36:05.364000+00:00  E7:00:28:A7:DB:C2  1.482446e+09   \n",
      "2016-12-22 22:36:10.602000+00:00  D4:E4:47:A5:F0:B3  1.482446e+09   \n",
      "2016-12-22 22:36:05.364000+00:00  E7:00:28:A7:DB:C2  1.482446e+09   \n",
      "2016-12-22 22:36:11.066000+00:00  E7:00:28:A7:DB:C2  1.482446e+09   \n",
      "2016-12-22 22:36:16.766000+00:00  E7:00:28:A7:DB:C2  1.482446e+09   \n",
      "2016-12-22 22:36:10.602000+00:00  D4:E4:47:A5:F0:B3  1.482446e+09   \n",
      "2016-12-22 22:36:16.304000+00:00  D4:E4:47:A5:F0:B3  1.482446e+09   \n",
      "2016-12-22 22:36:22.002000+00:00  D4:E4:47:A5:F0:B3  1.482446e+09   \n",
      "2016-12-22 22:36:16.766000+00:00  E7:00:28:A7:DB:C2  1.482446e+09   \n",
      "2016-12-22 22:36:22.467000+00:00  E7:00:28:A7:DB:C2  1.482446e+09   \n",
      "2016-12-22 22:36:28.167000+00:00  E7:00:28:A7:DB:C2  1.482446e+09   \n",
      "2016-12-22 22:36:22.002000+00:00  D4:E4:47:A5:F0:B3  1.482446e+09   \n",
      "...                                             ...           ...   \n",
      "2016-12-27 15:51:46.058000+00:00  D4:E4:47:A5:F0:B3  1.482854e+09   \n",
      "2016-12-27 15:51:51.756000+00:00  D4:E4:47:A5:F0:B3  1.482854e+09   \n",
      "2016-12-27 15:51:51.756000+00:00  D4:E4:47:A5:F0:B3  1.482854e+09   \n",
      "2016-12-27 15:51:57.454000+00:00  D4:E4:47:A5:F0:B3  1.482854e+09   \n",
      "2016-12-27 15:51:57.454000+00:00  D4:E4:47:A5:F0:B3  1.482854e+09   \n",
      "2016-12-27 15:52:03.154000+00:00  D4:E4:47:A5:F0:B3  1.482854e+09   \n",
      "2016-12-27 15:52:08.852000+00:00  D4:E4:47:A5:F0:B3  1.482854e+09   \n",
      "2016-12-27 15:52:08.852000+00:00  D4:E4:47:A5:F0:B3  1.482854e+09   \n",
      "2016-12-27 15:52:14.550000+00:00  D4:E4:47:A5:F0:B3  1.482854e+09   \n",
      "2016-12-27 15:52:14.550000+00:00  D4:E4:47:A5:F0:B3  1.482854e+09   \n",
      "2016-12-27 15:52:20.249000+00:00  D4:E4:47:A5:F0:B3  1.482854e+09   \n",
      "2016-12-27 15:52:25.948000+00:00  D4:E4:47:A5:F0:B3  1.482854e+09   \n",
      "2016-12-27 15:52:36.272000+00:00  D4:E4:47:A5:F0:B3  1.482854e+09   \n",
      "2016-12-27 15:52:36.272000+00:00  D4:E4:47:A5:F0:B3  1.482854e+09   \n",
      "2016-12-27 15:52:41.971000+00:00  D4:E4:47:A5:F0:B3  1.482854e+09   \n",
      "2016-12-27 15:52:41.971000+00:00  D4:E4:47:A5:F0:B3  1.482854e+09   \n",
      "2016-12-27 15:52:47.669000+00:00  D4:E4:47:A5:F0:B3  1.482854e+09   \n",
      "2016-12-27 15:52:47.669000+00:00  D4:E4:47:A5:F0:B3  1.482854e+09   \n",
      "2016-12-27 15:52:53.367000+00:00  D4:E4:47:A5:F0:B3  1.482854e+09   \n",
      "2016-12-27 15:52:59.067000+00:00  D4:E4:47:A5:F0:B3  1.482854e+09   \n",
      "2016-12-27 15:52:59.067000+00:00  D4:E4:47:A5:F0:B3  1.482854e+09   \n",
      "2016-12-27 15:53:04.766000+00:00  D4:E4:47:A5:F0:B3  1.482854e+09   \n",
      "2016-12-27 15:53:04.766000+00:00  D4:E4:47:A5:F0:B3  1.482854e+09   \n",
      "2016-12-27 15:53:10.467000+00:00  D4:E4:47:A5:F0:B3  1.482854e+09   \n",
      "2016-12-27 15:53:16.165000+00:00  D4:E4:47:A5:F0:B3  1.482854e+09   \n",
      "2016-12-27 15:53:16.165000+00:00  D4:E4:47:A5:F0:B3  1.482854e+09   \n",
      "2016-12-27 15:53:21.862000+00:00  D4:E4:47:A5:F0:B3  1.482854e+09   \n",
      "2016-12-27 15:53:21.862000+00:00  D4:E4:47:A5:F0:B3  1.482854e+09   \n",
      "2016-12-27 15:53:27.562000+00:00  D4:E4:47:A5:F0:B3  1.482854e+09   \n",
      "2016-12-27 15:53:33.261000+00:00  D4:E4:47:A5:F0:B3  1.482854e+09   \n",
      "\n",
      "                                  timestamp_lag  time_diff  \n",
      "datetime                                                    \n",
      "2016-12-22 22:32:51.908000+00:00            NaN        NaN  \n",
      "2016-12-22 22:32:57.608000+00:00   1.482446e+09      5.700  \n",
      "2016-12-22 22:33:03.308000+00:00   1.482446e+09      5.700  \n",
      "2016-12-22 22:33:09.011000+00:00   1.482446e+09      5.703  \n",
      "2016-12-22 22:33:14.711000+00:00   1.482446e+09      5.700  \n",
      "2016-12-22 22:33:20.411000+00:00   1.482446e+09      5.700  \n",
      "2016-12-22 22:33:26.111000+00:00   1.482446e+09      5.700  \n",
      "2016-12-22 22:33:31.812000+00:00   1.482446e+09      5.701  \n",
      "2016-12-22 22:33:37.512000+00:00   1.482446e+09      5.700  \n",
      "2016-12-22 22:33:43.214000+00:00   1.482446e+09      5.702  \n",
      "2016-12-22 22:33:48.914000+00:00   1.482446e+09      5.700  \n",
      "2016-12-22 22:33:54.614000+00:00   1.482446e+09      5.700  \n",
      "2016-12-22 22:34:00.315000+00:00   1.482446e+09      5.701  \n",
      "2016-12-22 22:34:06.015000+00:00   1.482446e+09      5.700  \n",
      "2016-12-22 22:34:11.716000+00:00   1.482446e+09      5.701  \n",
      "2016-12-22 22:34:17.416000+00:00   1.482446e+09      5.700  \n",
      "2016-12-22 22:34:23.116000+00:00   1.482446e+09      5.700  \n",
      "2016-12-22 22:34:28.816000+00:00   1.482446e+09      5.700  \n",
      "2016-12-22 22:36:05.364000+00:00   1.482446e+09     96.548  \n",
      "2016-12-22 22:36:10.602000+00:00            NaN        NaN  \n",
      "2016-12-22 22:36:05.364000+00:00   1.482446e+09      0.000  \n",
      "2016-12-22 22:36:11.066000+00:00   1.482446e+09      5.702  \n",
      "2016-12-22 22:36:16.766000+00:00   1.482446e+09      5.700  \n",
      "2016-12-22 22:36:10.602000+00:00   1.482446e+09      0.000  \n",
      "2016-12-22 22:36:16.304000+00:00   1.482446e+09      5.702  \n",
      "2016-12-22 22:36:22.002000+00:00   1.482446e+09      5.698  \n",
      "2016-12-22 22:36:16.766000+00:00   1.482446e+09      0.000  \n",
      "2016-12-22 22:36:22.467000+00:00   1.482446e+09      5.701  \n",
      "2016-12-22 22:36:28.167000+00:00   1.482446e+09      5.700  \n",
      "2016-12-22 22:36:22.002000+00:00   1.482446e+09      0.000  \n",
      "...                                         ...        ...  \n",
      "2016-12-27 15:51:46.058000+00:00   1.482854e+09      5.700  \n",
      "2016-12-27 15:51:51.756000+00:00   1.482854e+09      5.698  \n",
      "2016-12-27 15:51:51.756000+00:00   1.482854e+09      0.000  \n",
      "2016-12-27 15:51:57.454000+00:00   1.482854e+09      5.698  \n",
      "2016-12-27 15:51:57.454000+00:00   1.482854e+09      0.000  \n",
      "2016-12-27 15:52:03.154000+00:00   1.482854e+09      5.700  \n",
      "2016-12-27 15:52:08.852000+00:00   1.482854e+09      5.698  \n",
      "2016-12-27 15:52:08.852000+00:00   1.482854e+09      0.000  \n",
      "2016-12-27 15:52:14.550000+00:00   1.482854e+09      5.698  \n",
      "2016-12-27 15:52:14.550000+00:00   1.482854e+09      0.000  \n",
      "2016-12-27 15:52:20.249000+00:00   1.482854e+09      5.699  \n",
      "2016-12-27 15:52:25.948000+00:00   1.482854e+09      5.699  \n",
      "2016-12-27 15:52:36.272000+00:00   1.482854e+09     10.324  \n",
      "2016-12-27 15:52:36.272000+00:00   1.482854e+09      0.000  \n",
      "2016-12-27 15:52:41.971000+00:00   1.482854e+09      5.699  \n",
      "2016-12-27 15:52:41.971000+00:00   1.482854e+09      0.000  \n",
      "2016-12-27 15:52:47.669000+00:00   1.482854e+09      5.698  \n",
      "2016-12-27 15:52:47.669000+00:00   1.482854e+09      0.000  \n",
      "2016-12-27 15:52:53.367000+00:00   1.482854e+09      5.698  \n",
      "2016-12-27 15:52:59.067000+00:00   1.482854e+09      5.700  \n",
      "2016-12-27 15:52:59.067000+00:00   1.482854e+09      0.000  \n",
      "2016-12-27 15:53:04.766000+00:00   1.482854e+09      5.699  \n",
      "2016-12-27 15:53:04.766000+00:00   1.482854e+09      0.000  \n",
      "2016-12-27 15:53:10.467000+00:00   1.482854e+09      5.701  \n",
      "2016-12-27 15:53:16.165000+00:00   1.482854e+09      5.698  \n",
      "2016-12-27 15:53:16.165000+00:00   1.482854e+09      0.000  \n",
      "2016-12-27 15:53:21.862000+00:00   1.482854e+09      5.697  \n",
      "2016-12-27 15:53:21.862000+00:00   1.482854e+09      0.000  \n",
      "2016-12-27 15:53:27.562000+00:00   1.482854e+09      5.700  \n",
      "2016-12-27 15:53:33.261000+00:00   1.482854e+09      5.699  \n",
      "\n",
      "[190170 rows x 4 columns]\n"
     ]
    }
   ],
   "source": [
    "# shift the time one row so we can compare. \n",
    "grp_shift = grp['timestamp'].shift()\n",
    "df_with_lag = df.copy()\n",
    "df_with_lag['timestamp_lag']= grp_shift\n",
    "print(df_with_lag.index)\n",
    "df_with_lag['time_diff']=df_with_lag['timestamp']-df_with_lag['timestamp_lag']\n",
    "print(df_with_lag)"
   ]
  },
  {
   "cell_type": "markdown",
   "metadata": {},
   "source": [
    "There is a sample for every 50 ms, and room for 114 smaples per chunk. Therefore, time between chunks should be AT MOST ~ 5.7 seconds. We'll add 0.2 seconds to get rid of some noise"
   ]
  },
  {
   "cell_type": "code",
   "execution_count": 10,
   "metadata": {
    "collapsed": false
   },
   "outputs": [
    {
     "name": "stdout",
     "output_type": "stream",
     "text": [
      "seconds between chunks: 5.7\n",
      "seconds between chunks: 5.9\n",
      "                                      badge_address     timestamp  \\\n",
      "datetime                                                            \n",
      "2016-12-22 22:36:05.364000+00:00  E7:00:28:A7:DB:C2  1.482446e+09   \n",
      "2016-12-23 08:28:31.507000+00:00  D4:E4:47:A5:F0:B3  1.482482e+09   \n",
      "2016-12-23 09:18:30.773000+00:00  D4:E4:47:A5:F0:B3  1.482485e+09   \n",
      "2016-12-23 15:10:12.306000+00:00  D4:E4:47:A5:F0:B3  1.482506e+09   \n",
      "2016-12-24 10:56:53.918000+00:00  D4:E4:47:A5:F0:B3  1.482577e+09   \n",
      "\n",
      "                                  timestamp_lag  time_diff  \n",
      "datetime                                                    \n",
      "2016-12-22 22:36:05.364000+00:00   1.482446e+09     96.548  \n",
      "2016-12-23 08:28:31.507000+00:00   1.482482e+09     15.052  \n",
      "2016-12-23 09:18:30.773000+00:00   1.482485e+09     13.105  \n",
      "2016-12-23 15:10:12.306000+00:00   1.482506e+09     16.247  \n",
      "2016-12-24 10:56:53.918000+00:00   1.482577e+09     12.541  \n"
     ]
    }
   ],
   "source": [
    "seconds_between_chunks = 50*114/1000\n",
    "print(\"seconds between chunks: {}\".format(seconds_between_chunks))\n",
    "\n",
    "# time between chunks might vary slightly since we update the clock on the badges)\n",
    "seconds_between_chunks = seconds_between_chunks + 0.2\n",
    "print(\"seconds between chunks: {}\".format(seconds_between_chunks))\n",
    "\n",
    "gaps = df_with_lag[df_with_lag['time_diff']>seconds_between_chunks]\n",
    "print(gaps.head())"
   ]
  },
  {
   "cell_type": "markdown",
   "metadata": {},
   "source": [
    "How many gaps are ther then? If you look below, you'll see that the number of gaps is very small. However, you need to remmeber that this include ALL data collected from the badges, even when they started to reset."
   ]
  },
  {
   "cell_type": "code",
   "execution_count": 11,
   "metadata": {
    "collapsed": false
   },
   "outputs": [
    {
     "name": "stdout",
     "output_type": "stream",
     "text": [
      "190170\n",
      "818\n",
      "0.00430141452385\n"
     ]
    }
   ],
   "source": [
    "print(len(df))\n",
    "print(len(gaps))\n",
    "print(len(gaps)/len(df))"
   ]
  },
  {
   "cell_type": "code",
   "execution_count": 12,
   "metadata": {
    "collapsed": false
   },
   "outputs": [
    {
     "data": {
      "image/png": "[encoded data removed]",
      "text/plain": [
       "<matplotlib.figure.Figure at 0x7fcac3837050>"
      ]
     },
     "metadata": {},
     "output_type": "display_data"
    },
    {
     "data": {
      "text/plain": [
       "<ggplot: (8781802523977)>"
      ]
     },
     "execution_count": 12,
     "metadata": {},
     "output_type": "execute_result"
    }
   ],
   "source": [
    "#g2 = gaps[gaps['badge_address']=='D4:E4:47:A5:F0:B3']\n",
    "#p = ggplot(aes(x='time_diff'), data=g2)\n",
    "p = ggplot(aes(x='time_diff', fill='badge_address'), data=gaps)\n",
    "p + geom_histogram(binwidth=1)\n",
    "p  +geom_density(alpha=0.25) \n",
    "p + ggtitle(\"Gap (sec)\")"
   ]
  },
  {
   "cell_type": "markdown",
   "metadata": {},
   "source": [
    "# Filtering out gaps after the badge first reset"
   ]
  },
  {
   "cell_type": "markdown",
   "metadata": {},
   "source": [
    "If we want to get a real sense of how many gaps we have, we need to discard data after the the badges stared to reset. We need to look at the actualy logfile to find that time. This isn't going to be pretty, but it will work.."
   ]
  },
  {
   "cell_type": "code",
   "execution_count": 13,
   "metadata": {
    "collapsed": false
   },
   "outputs": [],
   "source": [
    "with gzip.open(log_filename, 'r') as f:\n",
    "    unsync_raw = [ line for line in f if 'unsync' in line]"
   ]
  },
  {
   "cell_type": "code",
   "execution_count": 14,
   "metadata": {
    "collapsed": false
   },
   "outputs": [],
   "source": [
    "import re\n",
    "# use regex to get date and badge\n",
    "unsync_split = [ re.match('(.*) - INFO - \\[(.*)\\]',line).group(1,2) for line in unsync_raw]"
   ]
  },
  {
   "cell_type": "code",
   "execution_count": 15,
   "metadata": {
    "collapsed": false
   },
   "outputs": [
    {
     "name": "stdout",
     "output_type": "stream",
     "text": [
      "                  datetime      badge_address\n",
      "0  2016-12-22 17:36:05,355  E7:00:28:A7:DB:C2\n",
      "1  2016-12-22 17:36:10,642  D4:E4:47:A5:F0:B3\n",
      "2  2016-12-26 04:33:51,381  E7:00:28:A7:DB:C2\n",
      "3  2016-12-26 04:34:55,065  E7:00:28:A7:DB:C2\n",
      "4  2016-12-26 04:36:59,070  E7:00:28:A7:DB:C2\n",
      "0    2016-12-22 17:36:05,355\n",
      "1    2016-12-22 17:36:10,642\n",
      "2    2016-12-26 04:33:51,381\n",
      "3    2016-12-26 04:34:55,065\n",
      "4    2016-12-26 04:36:59,070\n",
      "Name: datetime, dtype: object\n"
     ]
    }
   ],
   "source": [
    "# load into a dataframe and convert the date\n",
    "df_log = pd.DataFrame(unsync_split,columns=['datetime','badge_address'])\n",
    "print(df_log.head())\n",
    "print(df_log['datetime'].head())"
   ]
  },
  {
   "cell_type": "code",
   "execution_count": 16,
   "metadata": {
    "collapsed": false
   },
   "outputs": [
    {
     "name": "stdout",
     "output_type": "stream",
     "text": [
      "                                      badge_address\n",
      "datetime                                           \n",
      "2016-12-22 22:36:05.355000+00:00  E7:00:28:A7:DB:C2\n",
      "2016-12-22 22:36:10.642000+00:00  D4:E4:47:A5:F0:B3\n",
      "2016-12-26 09:33:51.381000+00:00  E7:00:28:A7:DB:C2\n",
      "2016-12-26 09:34:55.065000+00:00  E7:00:28:A7:DB:C2\n",
      "2016-12-26 09:36:59.070000+00:00  E7:00:28:A7:DB:C2\n",
      "DatetimeIndex(['2016-12-22 22:36:05.355000+00:00',\n",
      "               '2016-12-22 22:36:10.642000+00:00',\n",
      "               '2016-12-26 09:33:51.381000+00:00',\n",
      "               '2016-12-26 09:34:55.065000+00:00',\n",
      "               '2016-12-26 09:36:59.070000+00:00',\n",
      "               '2016-12-26 09:38:01.558000+00:00',\n",
      "               '2016-12-26 09:39:05.216000+00:00',\n",
      "               '2016-12-26 09:40:08.021000+00:00',\n",
      "               '2016-12-26 09:41:11.089000+00:00',\n",
      "               '2016-12-26 09:42:12.700000+00:00',\n",
      "               ...\n",
      "               '2016-12-27 15:42:29.539000+00:00',\n",
      "               '2016-12-27 15:43:36.259000+00:00',\n",
      "               '2016-12-27 15:44:43.576000+00:00',\n",
      "               '2016-12-27 15:45:51.192000+00:00',\n",
      "               '2016-12-27 15:46:58.901000+00:00',\n",
      "               '2016-12-27 15:48:06.435000+00:00',\n",
      "               '2016-12-27 15:49:13.761000+00:00',\n",
      "               '2016-12-27 15:50:21.497000+00:00',\n",
      "               '2016-12-27 15:51:28.997000+00:00',\n",
      "               '2016-12-27 15:52:36.309000+00:00'],\n",
      "              dtype='datetime64[ns, UTC]', name=u'datetime', length=635, freq=None)\n"
     ]
    }
   ],
   "source": [
    "df_log['datetime'] = pd.to_datetime(df_log['datetime'], utc=True)\n",
    "df_log.sort_values('datetime')\n",
    "df_log.index = pd.to_datetime(df_log.pop('datetime'), utc=True)\n",
    "\n",
    "# this log is in EST, needs to convert do UTC\n",
    "eastern = pytz.timezone('US/Eastern')\n",
    "utc  = pytz.timezone('UTC')\n",
    "df_log = df_log.tz_localize(eastern)\n",
    "df_log = df_log.tz_convert(utc)\n",
    "print(df_log.head())\n",
    "print(df_log.index)"
   ]
  },
  {
   "cell_type": "code",
   "execution_count": 17,
   "metadata": {
    "collapsed": false
   },
   "outputs": [
    {
     "name": "stdout",
     "output_type": "stream",
     "text": [
      "                          datetime      badge_address\n",
      "0 2016-12-22 22:36:05.355000+00:00  E7:00:28:A7:DB:C2\n",
      "1 2016-12-22 22:36:10.642000+00:00  D4:E4:47:A5:F0:B3\n",
      "2 2016-12-26 09:33:51.381000+00:00  E7:00:28:A7:DB:C2\n",
      "3 2016-12-26 09:34:55.065000+00:00  E7:00:28:A7:DB:C2\n",
      "4 2016-12-26 09:36:59.070000+00:00  E7:00:28:A7:DB:C2\n",
      "RangeIndex(start=0, stop=635, step=1)\n"
     ]
    }
   ],
   "source": [
    "# reseting index, now that we converted the timezone (i'm not sure how to do this more efficiently...)\n",
    "df_log = df_log.reset_index()\n",
    "print(df_log.head())\n",
    "print(df_log.index)"
   ]
  },
  {
   "cell_type": "markdown",
   "metadata": {},
   "source": [
    "The first reset (for every badge) is the first time we set the clock, so it's not really a reset"
   ]
  },
  {
   "cell_type": "code",
   "execution_count": 18,
   "metadata": {
    "collapsed": false
   },
   "outputs": [
    {
     "name": "stdout",
     "output_type": "stream",
     "text": [
      "       badge_address             first_reset_datetime  first_reset_timestamp\n",
      "0  D4:E4:47:A5:F0:B3 2016-12-27 11:52:11.372000+00:00           1.482840e+09\n",
      "1  E7:00:28:A7:DB:C2 2016-12-26 09:33:51.381000+00:00           1.482745e+09\n"
     ]
    }
   ],
   "source": [
    "df_log_grp = df_log.groupby('badge_address')\n",
    "start_time = df_log_grp.nth(0)\n",
    "first_reset = df_log_grp.nth(1).reset_index()\n",
    "first_reset.rename(columns={'datetime': 'first_reset_datetime'}, inplace=True)\n",
    "first_reset['first_reset_timestamp'] = first_reset['first_reset_datetime'].astype(np.int64)//1e9\n",
    "print(first_reset)"
   ]
  },
  {
   "cell_type": "markdown",
   "metadata": {},
   "source": [
    "Now, filter"
   ]
  },
  {
   "cell_type": "code",
   "execution_count": 19,
   "metadata": {
    "collapsed": false
   },
   "outputs": [
    {
     "name": "stdout",
     "output_type": "stream",
     "text": [
      "                          datetime      badge_address     timestamp  \\\n",
      "0 2016-12-22 22:36:05.364000+00:00  E7:00:28:A7:DB:C2  1.482446e+09   \n",
      "1 2016-12-23 08:28:31.507000+00:00  D4:E4:47:A5:F0:B3  1.482482e+09   \n",
      "2 2016-12-23 09:18:30.773000+00:00  D4:E4:47:A5:F0:B3  1.482485e+09   \n",
      "3 2016-12-23 15:10:12.306000+00:00  D4:E4:47:A5:F0:B3  1.482506e+09   \n",
      "4 2016-12-24 10:56:53.918000+00:00  D4:E4:47:A5:F0:B3  1.482577e+09   \n",
      "\n",
      "   timestamp_lag  time_diff             first_reset_datetime  \\\n",
      "0   1.482446e+09     96.548 2016-12-26 09:33:51.381000+00:00   \n",
      "1   1.482482e+09     15.052 2016-12-27 11:52:11.372000+00:00   \n",
      "2   1.482485e+09     13.105 2016-12-27 11:52:11.372000+00:00   \n",
      "3   1.482506e+09     16.247 2016-12-27 11:52:11.372000+00:00   \n",
      "4   1.482577e+09     12.541 2016-12-27 11:52:11.372000+00:00   \n",
      "\n",
      "   first_reset_timestamp  \n",
      "0           1.482745e+09  \n",
      "1           1.482840e+09  \n",
      "2           1.482840e+09  \n",
      "3           1.482840e+09  \n",
      "4           1.482840e+09  \n"
     ]
    }
   ],
   "source": [
    "gaps_and_first_rest = pd.merge(gaps.reset_index(),first_reset,how='left',on='badge_address')\n",
    "print(gaps_and_first_rest.head())"
   ]
  },
  {
   "cell_type": "code",
   "execution_count": 20,
   "metadata": {
    "collapsed": false
   },
   "outputs": [
    {
     "data": {
      "text/html": [
       "<div>\n",
       "<table border=\"1\" class=\"dataframe\">\n",
       "  <thead>\n",
       "    <tr style=\"text-align: right;\">\n",
       "      <th></th>\n",
       "      <th>datetime</th>\n",
       "      <th>badge_address</th>\n",
       "      <th>timestamp</th>\n",
       "      <th>timestamp_lag</th>\n",
       "      <th>time_diff</th>\n",
       "      <th>first_reset_datetime</th>\n",
       "      <th>first_reset_timestamp</th>\n",
       "    </tr>\n",
       "  </thead>\n",
       "  <tbody>\n",
       "    <tr>\n",
       "      <th>0</th>\n",
       "      <td>2016-12-22 22:36:05.364000+00:00</td>\n",
       "      <td>E7:00:28:A7:DB:C2</td>\n",
       "      <td>1.482446e+09</td>\n",
       "      <td>1.482446e+09</td>\n",
       "      <td>96.548</td>\n",
       "      <td>2016-12-26 09:33:51.381000+00:00</td>\n",
       "      <td>1.482745e+09</td>\n",
       "    </tr>\n",
       "    <tr>\n",
       "      <th>1</th>\n",
       "      <td>2016-12-23 08:28:31.507000+00:00</td>\n",
       "      <td>D4:E4:47:A5:F0:B3</td>\n",
       "      <td>1.482482e+09</td>\n",
       "      <td>1.482482e+09</td>\n",
       "      <td>15.052</td>\n",
       "      <td>2016-12-27 11:52:11.372000+00:00</td>\n",
       "      <td>1.482840e+09</td>\n",
       "    </tr>\n",
       "    <tr>\n",
       "      <th>2</th>\n",
       "      <td>2016-12-23 09:18:30.773000+00:00</td>\n",
       "      <td>D4:E4:47:A5:F0:B3</td>\n",
       "      <td>1.482485e+09</td>\n",
       "      <td>1.482485e+09</td>\n",
       "      <td>13.105</td>\n",
       "      <td>2016-12-27 11:52:11.372000+00:00</td>\n",
       "      <td>1.482840e+09</td>\n",
       "    </tr>\n",
       "    <tr>\n",
       "      <th>3</th>\n",
       "      <td>2016-12-23 15:10:12.306000+00:00</td>\n",
       "      <td>D4:E4:47:A5:F0:B3</td>\n",
       "      <td>1.482506e+09</td>\n",
       "      <td>1.482506e+09</td>\n",
       "      <td>16.247</td>\n",
       "      <td>2016-12-27 11:52:11.372000+00:00</td>\n",
       "      <td>1.482840e+09</td>\n",
       "    </tr>\n",
       "    <tr>\n",
       "      <th>4</th>\n",
       "      <td>2016-12-24 10:56:53.918000+00:00</td>\n",
       "      <td>D4:E4:47:A5:F0:B3</td>\n",
       "      <td>1.482577e+09</td>\n",
       "      <td>1.482577e+09</td>\n",
       "      <td>12.541</td>\n",
       "      <td>2016-12-27 11:52:11.372000+00:00</td>\n",
       "      <td>1.482840e+09</td>\n",
       "    </tr>\n",
       "    <tr>\n",
       "      <th>5</th>\n",
       "      <td>2016-12-24 19:38:35.289000+00:00</td>\n",
       "      <td>D4:E4:47:A5:F0:B3</td>\n",
       "      <td>1.482608e+09</td>\n",
       "      <td>1.482608e+09</td>\n",
       "      <td>15.115</td>\n",
       "      <td>2016-12-27 11:52:11.372000+00:00</td>\n",
       "      <td>1.482840e+09</td>\n",
       "    </tr>\n",
       "    <tr>\n",
       "      <th>6</th>\n",
       "      <td>2016-12-24 21:18:35.147000+00:00</td>\n",
       "      <td>D4:E4:47:A5:F0:B3</td>\n",
       "      <td>1.482614e+09</td>\n",
       "      <td>1.482614e+09</td>\n",
       "      <td>16.134</td>\n",
       "      <td>2016-12-27 11:52:11.372000+00:00</td>\n",
       "      <td>1.482840e+09</td>\n",
       "    </tr>\n",
       "    <tr>\n",
       "      <th>7</th>\n",
       "      <td>2016-12-25 06:35:15.983000+00:00</td>\n",
       "      <td>D4:E4:47:A5:F0:B3</td>\n",
       "      <td>1.482648e+09</td>\n",
       "      <td>1.482648e+09</td>\n",
       "      <td>11.927</td>\n",
       "      <td>2016-12-27 11:52:11.372000+00:00</td>\n",
       "      <td>1.482840e+09</td>\n",
       "    </tr>\n",
       "    <tr>\n",
       "      <th>8</th>\n",
       "      <td>2016-12-26 09:33:51.406000+00:00</td>\n",
       "      <td>E7:00:28:A7:DB:C2</td>\n",
       "      <td>1.482745e+09</td>\n",
       "      <td>1.482745e+09</td>\n",
       "      <td>21.385</td>\n",
       "      <td>2016-12-26 09:33:51.381000+00:00</td>\n",
       "      <td>1.482745e+09</td>\n",
       "    </tr>\n",
       "    <tr>\n",
       "      <th>662</th>\n",
       "      <td>2016-12-27 06:36:57.961000+00:00</td>\n",
       "      <td>D4:E4:47:A5:F0:B3</td>\n",
       "      <td>1.482821e+09</td>\n",
       "      <td>1.482821e+09</td>\n",
       "      <td>13.462</td>\n",
       "      <td>2016-12-27 11:52:11.372000+00:00</td>\n",
       "      <td>1.482840e+09</td>\n",
       "    </tr>\n",
       "    <tr>\n",
       "      <th>663</th>\n",
       "      <td>2016-12-27 11:52:11.333000+00:00</td>\n",
       "      <td>D4:E4:47:A5:F0:B3</td>\n",
       "      <td>1.482840e+09</td>\n",
       "      <td>1.482840e+09</td>\n",
       "      <td>22.010</td>\n",
       "      <td>2016-12-27 11:52:11.372000+00:00</td>\n",
       "      <td>1.482840e+09</td>\n",
       "    </tr>\n",
       "  </tbody>\n",
       "</table>\n",
       "</div>"
      ],
      "text/plain": [
       "                            datetime      badge_address     timestamp  \\\n",
       "0   2016-12-22 22:36:05.364000+00:00  E7:00:28:A7:DB:C2  1.482446e+09   \n",
       "1   2016-12-23 08:28:31.507000+00:00  D4:E4:47:A5:F0:B3  1.482482e+09   \n",
       "2   2016-12-23 09:18:30.773000+00:00  D4:E4:47:A5:F0:B3  1.482485e+09   \n",
       "3   2016-12-23 15:10:12.306000+00:00  D4:E4:47:A5:F0:B3  1.482506e+09   \n",
       "4   2016-12-24 10:56:53.918000+00:00  D4:E4:47:A5:F0:B3  1.482577e+09   \n",
       "5   2016-12-24 19:38:35.289000+00:00  D4:E4:47:A5:F0:B3  1.482608e+09   \n",
       "6   2016-12-24 21:18:35.147000+00:00  D4:E4:47:A5:F0:B3  1.482614e+09   \n",
       "7   2016-12-25 06:35:15.983000+00:00  D4:E4:47:A5:F0:B3  1.482648e+09   \n",
       "8   2016-12-26 09:33:51.406000+00:00  E7:00:28:A7:DB:C2  1.482745e+09   \n",
       "662 2016-12-27 06:36:57.961000+00:00  D4:E4:47:A5:F0:B3  1.482821e+09   \n",
       "663 2016-12-27 11:52:11.333000+00:00  D4:E4:47:A5:F0:B3  1.482840e+09   \n",
       "\n",
       "     timestamp_lag  time_diff             first_reset_datetime  \\\n",
       "0     1.482446e+09     96.548 2016-12-26 09:33:51.381000+00:00   \n",
       "1     1.482482e+09     15.052 2016-12-27 11:52:11.372000+00:00   \n",
       "2     1.482485e+09     13.105 2016-12-27 11:52:11.372000+00:00   \n",
       "3     1.482506e+09     16.247 2016-12-27 11:52:11.372000+00:00   \n",
       "4     1.482577e+09     12.541 2016-12-27 11:52:11.372000+00:00   \n",
       "5     1.482608e+09     15.115 2016-12-27 11:52:11.372000+00:00   \n",
       "6     1.482614e+09     16.134 2016-12-27 11:52:11.372000+00:00   \n",
       "7     1.482648e+09     11.927 2016-12-27 11:52:11.372000+00:00   \n",
       "8     1.482745e+09     21.385 2016-12-26 09:33:51.381000+00:00   \n",
       "662   1.482821e+09     13.462 2016-12-27 11:52:11.372000+00:00   \n",
       "663   1.482840e+09     22.010 2016-12-27 11:52:11.372000+00:00   \n",
       "\n",
       "     first_reset_timestamp  \n",
       "0             1.482745e+09  \n",
       "1             1.482840e+09  \n",
       "2             1.482840e+09  \n",
       "3             1.482840e+09  \n",
       "4             1.482840e+09  \n",
       "5             1.482840e+09  \n",
       "6             1.482840e+09  \n",
       "7             1.482840e+09  \n",
       "8             1.482745e+09  \n",
       "662           1.482840e+09  \n",
       "663           1.482840e+09  "
      ]
     },
     "execution_count": 20,
     "metadata": {},
     "output_type": "execute_result"
    }
   ],
   "source": [
    "gaps_and_first_rest[gaps_and_first_rest['timestamp_lag'] < gaps_and_first_rest['first_reset_timestamp']]"
   ]
  },
  {
   "cell_type": "markdown",
   "metadata": {},
   "source": []
  }
 ],
 "metadata": {
  "kernelspec": {
   "display_name": "Python 2",
   "language": "python",
   "name": "python2"
  },
  "language_info": {
   "codemirror_mode": {
    "name": "ipython",
    "version": 2
   },
   "file_extension": ".py",
   "mimetype": "text/x-python",
   "name": "python",
   "nbconvert_exporter": "python",
   "pygments_lexer": "ipython2",
   "version": "2.7.6"
  }
 },
 "nbformat": 4,
 "nbformat_minor": 0
}
