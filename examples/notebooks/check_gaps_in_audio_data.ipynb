{
 "cells": [
  {
   "cell_type": "markdown",
   "metadata": {},
   "source": [
    "In this notebook, we are looking for gaps in the audio data collected by two badges - one with an old firmware, and one with the new firmware (2.0)\n",
    "\n",
    "New badge (firmware 2.0) - C7:75:13:05:10:EE\n",
    "\n",
    "Old badge - F9:4A:86:6E:F4:0C"
   ]
  },
  {
   "cell_type": "code",
   "execution_count": 1,
   "metadata": {
    "collapsed": false
   },
   "outputs": [],
   "source": [
    "from __future__ import absolute_import, division, print_function\n",
    "\n",
    "import os\n",
    "import sys\n",
    "import datetime\n",
    "import pandas as pd\n",
    "import numpy as np\n",
    "import pytz\n",
    "import dateutil\n",
    "import gzip\n",
    "\n",
    "from ggplot import *\n",
    "%matplotlib inline\n",
    "\n",
    "# add the 'src' directory as one where we can import modules\n",
    "src_dir = os.path.join(os.getcwd(), os.pardir, os.pardir)\n",
    "sys.path.append(src_dir)\n",
    "\n",
    "# import data analysis modules\n",
    "import openbadge_analysis as ob"
   ]
  },
  {
   "cell_type": "code",
   "execution_count": 2,
   "metadata": {
    "collapsed": false
   },
   "outputs": [],
   "source": [
    "# Load the \"autoreload\" extension\n",
    "%load_ext autoreload\n",
    "# always reload modules marked with \"%aimport\"\n",
    "%autoreload 1\n",
    "# list of modules to autoload\n",
    "%aimport openbadge_analysis"
   ]
  },
  {
   "cell_type": "code",
   "execution_count": 3,
   "metadata": {
    "collapsed": false
   },
   "outputs": [],
   "source": [
    "# config\n",
    "filename = '/home/orenled/temp/logs/3_log_audio.txt.gz'\n",
    "log_filename = '/home/orenled/temp/logs/3_server.log.gz'\n",
    "\n",
    "eastern = pytz.timezone('US/Eastern')\n",
    "utc  = pytz.timezone('UTC')"
   ]
  },
  {
   "cell_type": "markdown",
   "metadata": {},
   "source": [
    "# Find badge first reset"
   ]
  },
  {
   "cell_type": "markdown",
   "metadata": {},
   "source": [
    "If we want to get a real sense of how many gaps we have, we need to discard data after the the badges stared to reset. We need to look at the actualy logfile to find that time. This isn't going to be pretty, but it will work."
   ]
  },
  {
   "cell_type": "code",
   "execution_count": 4,
   "metadata": {
    "collapsed": false
   },
   "outputs": [],
   "source": [
    "with gzip.open(log_filename, 'r') as f:\n",
    "    unsync_raw = [ line for line in f if 'unsync' in line]"
   ]
  },
  {
   "cell_type": "code",
   "execution_count": 5,
   "metadata": {
    "collapsed": false
   },
   "outputs": [],
   "source": [
    "import re\n",
    "# use regex to get date and badge\n",
    "unsync_split = [ re.match('(.*) - INFO - \\[(.*)\\]',line).group(1,2) for line in unsync_raw]"
   ]
  },
  {
   "cell_type": "code",
   "execution_count": 6,
   "metadata": {
    "collapsed": false
   },
   "outputs": [
    {
     "name": "stdout",
     "output_type": "stream",
     "text": [
      "                  datetime      badge_address\n",
      "0  2016-12-27 11:51:55,113  C7:75:13:05:10:EE\n",
      "1  2016-12-27 11:51:58,390  F9:4A:86:6E:F4:0C\n",
      "2  2016-12-30 09:45:36,636  F9:4A:86:6E:F4:0C\n",
      "3  2016-12-30 10:16:56,960  F9:4A:86:6E:F4:0C\n",
      "4  2016-12-30 10:47:39,001  F9:4A:86:6E:F4:0C\n",
      "0    2016-12-27 11:51:55,113\n",
      "1    2016-12-27 11:51:58,390\n",
      "2    2016-12-30 09:45:36,636\n",
      "3    2016-12-30 10:16:56,960\n",
      "4    2016-12-30 10:47:39,001\n",
      "Name: datetime, dtype: object\n"
     ]
    }
   ],
   "source": [
    "# load into a dataframe and convert the date\n",
    "df_log = pd.DataFrame(unsync_split,columns=['datetime','badge_address'])\n",
    "print(df_log.head())\n",
    "print(df_log['datetime'].head())"
   ]
  },
  {
   "cell_type": "code",
   "execution_count": 7,
   "metadata": {
    "collapsed": false
   },
   "outputs": [
    {
     "name": "stdout",
     "output_type": "stream",
     "text": [
      "                                      badge_address\n",
      "datetime                                           \n",
      "2016-12-27 11:51:55.113000-05:00  C7:75:13:05:10:EE\n",
      "2016-12-27 11:51:58.390000-05:00  F9:4A:86:6E:F4:0C\n",
      "2016-12-30 09:45:36.636000-05:00  F9:4A:86:6E:F4:0C\n",
      "2016-12-30 10:16:56.960000-05:00  F9:4A:86:6E:F4:0C\n",
      "2016-12-30 10:47:39.001000-05:00  F9:4A:86:6E:F4:0C\n",
      "datetime64[ns, US/Eastern]\n"
     ]
    }
   ],
   "source": [
    "df_log['datetime'] = pd.to_datetime(df_log['datetime'], utc=True)\n",
    "df_log.sort_values('datetime')\n",
    "df_log.index = pd.to_datetime(df_log.pop('datetime'), utc=True)\n",
    "\n",
    "# this log is in EST\n",
    "df_log = df_log.tz_localize(eastern)\n",
    "print(df_log.head())\n",
    "print(df_log.index.dtype)"
   ]
  },
  {
   "cell_type": "code",
   "execution_count": 8,
   "metadata": {
    "collapsed": false
   },
   "outputs": [
    {
     "name": "stdout",
     "output_type": "stream",
     "text": [
      "                          datetime      badge_address\n",
      "0 2016-12-27 11:51:55.113000-05:00  C7:75:13:05:10:EE\n",
      "1 2016-12-27 11:51:58.390000-05:00  F9:4A:86:6E:F4:0C\n",
      "2 2016-12-30 09:45:36.636000-05:00  F9:4A:86:6E:F4:0C\n",
      "3 2016-12-30 10:16:56.960000-05:00  F9:4A:86:6E:F4:0C\n",
      "4 2016-12-30 10:47:39.001000-05:00  F9:4A:86:6E:F4:0C\n",
      "datetime64[ns, US/Eastern]\n"
     ]
    }
   ],
   "source": [
    "# reseting index, now that we converted the timezone (i'm not sure how to do this more efficiently...)\n",
    "df_log = df_log.reset_index()\n",
    "print(df_log.head())\n",
    "print(df_log.datetime.dtype)"
   ]
  },
  {
   "cell_type": "markdown",
   "metadata": {},
   "source": [
    "The first reset (for every badge) is the first time we set the clock, so it's not really a reset"
   ]
  },
  {
   "cell_type": "code",
   "execution_count": 9,
   "metadata": {
    "collapsed": false,
    "scrolled": true
   },
   "outputs": [
    {
     "name": "stdout",
     "output_type": "stream",
     "text": [
      "Start time\n",
      "                                           datetime\n",
      "badge_address                                     \n",
      "C7:75:13:05:10:EE 2016-12-27 11:51:55.113000-05:00\n",
      "F9:4A:86:6E:F4:0C 2016-12-27 11:51:58.390000-05:00 \n",
      "\n",
      "\n",
      "First reset\n",
      "                                           datetime\n",
      "badge_address                                     \n",
      "C7:75:13:05:10:EE 2017-01-02 22:51:17.736000-05:00\n",
      "F9:4A:86:6E:F4:0C 2016-12-30 09:45:36.636000-05:00 \n",
      "\n",
      "\n",
      "First reset, restructured\n",
      "        badge_address  first_reset_timestamp\n",
      "0  C7:75:13:05:10:EE           1.483415e+09\n",
      "1  F9:4A:86:6E:F4:0C           1.483109e+09 \n",
      "\n",
      "\n"
     ]
    }
   ],
   "source": [
    "df_log_grp = df_log.groupby('badge_address')\n",
    "start_time = df_log_grp.nth(0)\n",
    "print(\"Start time\\n\",start_time,\"\\n\\n\")\n",
    "\n",
    "first_reset = df_log_grp.nth(1)\n",
    "print(\"First reset\\n\",first_reset,\"\\n\\n\")\n",
    "\n",
    "# change to a more convinient format\n",
    "first_reset = first_reset.reset_index()\n",
    "first_reset.rename(columns={'datetime': 'first_reset_datetime'}, inplace=True)\n",
    "first_reset['first_reset_timestamp'] = first_reset.pop('first_reset_datetime').astype(np.int64)//1e9\n",
    "print(\"First reset, restructured\\n\", first_reset,\"\\n\\n\")"
   ]
  },
  {
   "cell_type": "markdown",
   "metadata": {},
   "source": [
    "# Look for gaps"
   ]
  },
  {
   "cell_type": "code",
   "execution_count": 10,
   "metadata": {
    "collapsed": true
   },
   "outputs": [],
   "source": [
    "with gzip.open(filename, 'r') as f:\n",
    "    audio_chunks = ob.load_audio_chunks_as_json_objects(f, log_version='2.0')"
   ]
  },
  {
   "cell_type": "code",
   "execution_count": 11,
   "metadata": {
    "collapsed": false
   },
   "outputs": [
    {
     "name": "stdout",
     "output_type": "stream",
     "text": [
      "                          datetime      badge_address     timestamp\n",
      "0 2016-12-27 11:51:55.074000-05:00  C7:75:13:05:10:EE  1.482858e+09\n",
      "1 2016-12-27 11:51:58.399000-05:00  F9:4A:86:6E:F4:0C  1.482858e+09\n",
      "2 2016-12-27 11:51:58.399000-05:00  F9:4A:86:6E:F4:0C  1.482858e+09\n",
      "3 2016-12-27 11:52:04.100000-05:00  F9:4A:86:6E:F4:0C  1.482858e+09\n",
      "4 2016-12-27 11:52:09.800000-05:00  F9:4A:86:6E:F4:0C  1.482858e+09\n",
      "5 2016-12-27 11:52:15.500000-05:00  F9:4A:86:6E:F4:0C  1.482858e+09\n",
      "6 2016-12-27 11:52:21.200000-05:00  F9:4A:86:6E:F4:0C  1.482858e+09\n",
      "7 2016-12-27 11:52:26.900000-05:00  F9:4A:86:6E:F4:0C  1.482858e+09\n",
      "8 2016-12-27 11:52:32.600000-05:00  F9:4A:86:6E:F4:0C  1.482858e+09\n",
      "9 2016-12-27 11:52:38.300000-05:00  F9:4A:86:6E:F4:0C  1.482858e+09\n",
      "datetime         datetime64[ns, US/Eastern]\n",
      "badge_address                        object\n",
      "timestamp                           float64\n",
      "dtype: object\n"
     ]
    }
   ],
   "source": [
    "# load data into a data frame\n",
    "df = pd.DataFrame(audio_chunks,columns=['badge_address','timestamp'])\n",
    "\n",
    "# Converting timestamp (epoch) to UTC datetime\n",
    "df['datetime'] = pd.to_datetime(df['timestamp'],unit='s', utc=True)\n",
    "\n",
    "# Setting datetime as index\n",
    "df.sort_values('datetime')\n",
    "df.index = pd.to_datetime(df.pop('datetime'), utc=True)\n",
    "df = df.tz_localize(utc)\n",
    "df = df.tz_convert(eastern)\n",
    "df = df.reset_index() # make it a column again\n",
    "\n",
    "print(df.head(10))\n",
    "print(df.dtypes)"
   ]
  },
  {
   "cell_type": "markdown",
   "metadata": {},
   "source": [
    "## filter based on first reset time"
   ]
  },
  {
   "cell_type": "code",
   "execution_count": 12,
   "metadata": {
    "collapsed": false
   },
   "outputs": [
    {
     "name": "stdout",
     "output_type": "stream",
     "text": [
      "Records before filtering: 139369, after: 136292\n"
     ]
    }
   ],
   "source": [
    "df_fil = pd.merge(df,first_reset,how='left',on='badge_address')\n",
    "df_fil = df_fil[df_fil['timestamp'] < df_fil['first_reset_timestamp']]\n",
    "print(\"Records before filtering: {}, after: {}\".format(len(df),len(df_fil)))\n",
    "\n",
    "#df_fil.index =  df_fil['datetime']\n",
    "del df_fil['first_reset_timestamp']"
   ]
  },
  {
   "cell_type": "markdown",
   "metadata": {},
   "source": [
    "## Check for gaps in data"
   ]
  },
  {
   "cell_type": "markdown",
   "metadata": {},
   "source": [
    "calculations are per-badge, so we must create a multi index. Then, per-group calculations can be done with group by"
   ]
  },
  {
   "cell_type": "code",
   "execution_count": 21,
   "metadata": {
    "collapsed": false
   },
   "outputs": [
    {
     "name": "stdout",
     "output_type": "stream",
     "text": [
      "                                                                           datetime  \\\n",
      "badge_address     datetime                                                            \n",
      "C7:75:13:05:10:EE 2016-12-27 11:51:55.074000-05:00 2016-12-27 11:51:55.074000-05:00   \n",
      "                  2016-12-27 11:51:55.074000-05:00 2016-12-27 11:51:55.074000-05:00   \n",
      "                  2016-12-27 11:52:00.774000-05:00 2016-12-27 11:52:00.774000-05:00   \n",
      "                  2016-12-27 11:52:06.473000-05:00 2016-12-27 11:52:06.473000-05:00   \n",
      "                  2016-12-27 11:52:12.171000-05:00 2016-12-27 11:52:12.171000-05:00   \n",
      "\n",
      "                                                        badge_address  \\\n",
      "badge_address     datetime                                              \n",
      "C7:75:13:05:10:EE 2016-12-27 11:51:55.074000-05:00  C7:75:13:05:10:EE   \n",
      "                  2016-12-27 11:51:55.074000-05:00  C7:75:13:05:10:EE   \n",
      "                  2016-12-27 11:52:00.774000-05:00  C7:75:13:05:10:EE   \n",
      "                  2016-12-27 11:52:06.473000-05:00  C7:75:13:05:10:EE   \n",
      "                  2016-12-27 11:52:12.171000-05:00  C7:75:13:05:10:EE   \n",
      "\n",
      "                                                       timestamp  \n",
      "badge_address     datetime                                        \n",
      "C7:75:13:05:10:EE 2016-12-27 11:51:55.074000-05:00  1.482858e+09  \n",
      "                  2016-12-27 11:51:55.074000-05:00  1.482858e+09  \n",
      "                  2016-12-27 11:52:00.774000-05:00  1.482858e+09  \n",
      "                  2016-12-27 11:52:06.473000-05:00  1.482858e+09  \n",
      "                  2016-12-27 11:52:12.171000-05:00  1.482858e+09  \n"
     ]
    }
   ],
   "source": [
    "# http://pandas.pydata.org/pandas-docs/stable/advanced.html\n",
    "# set multi-index\n",
    "df_fil.set_index(['badge_address', 'datetime'], inplace=True, drop=False)\n",
    "\n",
    "# sort is important for shift to work properly\n",
    "df_fil.sort_index(inplace=True)\n",
    "print(df_fil.head())"
   ]
  },
  {
   "cell_type": "code",
   "execution_count": 14,
   "metadata": {
    "collapsed": false
   },
   "outputs": [
    {
     "name": "stdout",
     "output_type": "stream",
     "text": [
      "index dtype:  object\n",
      "Timediff type: float64\n",
      "                                                                           datetime  \\\n",
      "badge_address     datetime                                                            \n",
      "C7:75:13:05:10:EE 2016-12-27 11:51:55.074000-05:00 2016-12-27 11:51:55.074000-05:00   \n",
      "                  2016-12-27 11:51:55.074000-05:00 2016-12-27 11:51:55.074000-05:00   \n",
      "                  2016-12-27 11:52:00.774000-05:00 2016-12-27 11:52:00.774000-05:00   \n",
      "                  2016-12-27 11:52:06.473000-05:00 2016-12-27 11:52:06.473000-05:00   \n",
      "                  2016-12-27 11:52:12.171000-05:00 2016-12-27 11:52:12.171000-05:00   \n",
      "\n",
      "                                                        badge_address  \\\n",
      "badge_address     datetime                                              \n",
      "C7:75:13:05:10:EE 2016-12-27 11:51:55.074000-05:00  C7:75:13:05:10:EE   \n",
      "                  2016-12-27 11:51:55.074000-05:00  C7:75:13:05:10:EE   \n",
      "                  2016-12-27 11:52:00.774000-05:00  C7:75:13:05:10:EE   \n",
      "                  2016-12-27 11:52:06.473000-05:00  C7:75:13:05:10:EE   \n",
      "                  2016-12-27 11:52:12.171000-05:00  C7:75:13:05:10:EE   \n",
      "\n",
      "                                                       timestamp  \\\n",
      "badge_address     datetime                                         \n",
      "C7:75:13:05:10:EE 2016-12-27 11:51:55.074000-05:00  1.482858e+09   \n",
      "                  2016-12-27 11:51:55.074000-05:00  1.482858e+09   \n",
      "                  2016-12-27 11:52:00.774000-05:00  1.482858e+09   \n",
      "                  2016-12-27 11:52:06.473000-05:00  1.482858e+09   \n",
      "                  2016-12-27 11:52:12.171000-05:00  1.482858e+09   \n",
      "\n",
      "                                                    timestamp_lag  time_diff  \n",
      "badge_address     datetime                                                    \n",
      "C7:75:13:05:10:EE 2016-12-27 11:51:55.074000-05:00            NaN        NaN  \n",
      "                  2016-12-27 11:51:55.074000-05:00   1.482858e+09      0.000  \n",
      "                  2016-12-27 11:52:00.774000-05:00   1.482858e+09      5.700  \n",
      "                  2016-12-27 11:52:06.473000-05:00   1.482858e+09      5.699  \n",
      "                  2016-12-27 11:52:12.171000-05:00   1.482858e+09      5.698  \n"
     ]
    }
   ],
   "source": [
    "# http://pandas.pydata.org/pandas-docs/stable/groupby.html\n",
    "# group by badges, and shift ones so we can get the time of the previous row\n",
    "grp_shift = df_fil.groupby(level=[0]).shift(1)\n",
    "df_with_lag = df_fil.copy()\n",
    "df_with_lag['timestamp_lag']= grp_shift['timestamp']\n",
    "df_with_lag['time_diff']=df_with_lag['timestamp']-df_with_lag['timestamp_lag']\n",
    "print(\"index dtype: \",df_with_lag.index.dtype)\n",
    "print(\"Timediff type:\", df_with_lag.time_diff.dtype)\n",
    "print(df_with_lag.head())"
   ]
  },
  {
   "cell_type": "markdown",
   "metadata": {},
   "source": [
    "There is a sample for every 50 ms, and room for 114 smaples per chunk. Therefore, time between chunks should be AT MOST ~ 5.7 seconds. We'll add 0.2 seconds to get rid of some noise"
   ]
  },
  {
   "cell_type": "code",
   "execution_count": 15,
   "metadata": {
    "collapsed": false
   },
   "outputs": [
    {
     "name": "stdout",
     "output_type": "stream",
     "text": [
      "seconds between chunks: 5.7\n",
      "seconds between chunks: 5.9\n",
      "                                                        badge_address  \\\n",
      "badge_address     datetime                                              \n",
      "C7:75:13:05:10:EE 2016-12-27 12:52:48.075000-05:00  C7:75:13:05:10:EE   \n",
      "                  2016-12-27 23:14:15.760000-05:00  C7:75:13:05:10:EE   \n",
      "                  2016-12-28 18:56:03.527000-05:00  C7:75:13:05:10:EE   \n",
      "                  2016-12-28 21:31:09.236000-05:00  C7:75:13:05:10:EE   \n",
      "                  2016-12-29 15:07:51.556000-05:00  C7:75:13:05:10:EE   \n",
      "                  2016-12-29 16:40:47.463000-05:00  C7:75:13:05:10:EE   \n",
      "                  2016-12-29 20:36:37.504000-05:00  C7:75:13:05:10:EE   \n",
      "                  2016-12-29 21:50:08.478000-05:00  C7:75:13:05:10:EE   \n",
      "                  2016-12-30 09:02:47.507000-05:00  C7:75:13:05:10:EE   \n",
      "                  2016-12-30 10:15:49.956000-05:00  C7:75:13:05:10:EE   \n",
      "                  2016-12-30 19:46:22.678000-05:00  C7:75:13:05:10:EE   \n",
      "                  2016-12-30 20:59:42.226000-05:00  C7:75:13:05:10:EE   \n",
      "                  2016-12-31 06:59:35.789000-05:00  C7:75:13:05:10:EE   \n",
      "                  2016-12-31 08:13:12.427000-05:00  C7:75:13:05:10:EE   \n",
      "                  2017-01-01 00:32:17.303000-05:00  C7:75:13:05:10:EE   \n",
      "                  2017-01-01 08:40:35.897000-05:00  C7:75:13:05:10:EE   \n",
      "                  2017-01-01 16:18:45.493000-05:00  C7:75:13:05:10:EE   \n",
      "                  2017-01-02 01:59:09.325000-05:00  C7:75:13:05:10:EE   \n",
      "                  2017-01-02 20:19:08.233000-05:00  C7:75:13:05:10:EE   \n",
      "F9:4A:86:6E:F4:0C 2016-12-27 16:19:30.506000-05:00  F9:4A:86:6E:F4:0C   \n",
      "                  2016-12-27 17:32:51.126000-05:00  F9:4A:86:6E:F4:0C   \n",
      "                  2016-12-27 22:31:09.989000-05:00  F9:4A:86:6E:F4:0C   \n",
      "                  2016-12-27 23:44:59.170000-05:00  F9:4A:86:6E:F4:0C   \n",
      "                  2016-12-29 08:12:06.471000-05:00  F9:4A:86:6E:F4:0C   \n",
      "                  2016-12-29 09:25:32.836000-05:00  F9:4A:86:6E:F4:0C   \n",
      "\n",
      "                                                                           datetime  \\\n",
      "badge_address     datetime                                                            \n",
      "C7:75:13:05:10:EE 2016-12-27 12:52:48.075000-05:00 2016-12-27 12:52:48.075000-05:00   \n",
      "                  2016-12-27 23:14:15.760000-05:00 2016-12-27 23:14:15.760000-05:00   \n",
      "                  2016-12-28 18:56:03.527000-05:00 2016-12-28 18:56:03.527000-05:00   \n",
      "                  2016-12-28 21:31:09.236000-05:00 2016-12-28 21:31:09.236000-05:00   \n",
      "                  2016-12-29 15:07:51.556000-05:00 2016-12-29 15:07:51.556000-05:00   \n",
      "                  2016-12-29 16:40:47.463000-05:00 2016-12-29 16:40:47.463000-05:00   \n",
      "                  2016-12-29 20:36:37.504000-05:00 2016-12-29 20:36:37.504000-05:00   \n",
      "                  2016-12-29 21:50:08.478000-05:00 2016-12-29 21:50:08.478000-05:00   \n",
      "                  2016-12-30 09:02:47.507000-05:00 2016-12-30 09:02:47.507000-05:00   \n",
      "                  2016-12-30 10:15:49.956000-05:00 2016-12-30 10:15:49.956000-05:00   \n",
      "                  2016-12-30 19:46:22.678000-05:00 2016-12-30 19:46:22.678000-05:00   \n",
      "                  2016-12-30 20:59:42.226000-05:00 2016-12-30 20:59:42.226000-05:00   \n",
      "                  2016-12-31 06:59:35.789000-05:00 2016-12-31 06:59:35.789000-05:00   \n",
      "                  2016-12-31 08:13:12.427000-05:00 2016-12-31 08:13:12.427000-05:00   \n",
      "                  2017-01-01 00:32:17.303000-05:00 2017-01-01 00:32:17.303000-05:00   \n",
      "                  2017-01-01 08:40:35.897000-05:00 2017-01-01 08:40:35.897000-05:00   \n",
      "                  2017-01-01 16:18:45.493000-05:00 2017-01-01 16:18:45.493000-05:00   \n",
      "                  2017-01-02 01:59:09.325000-05:00 2017-01-02 01:59:09.325000-05:00   \n",
      "                  2017-01-02 20:19:08.233000-05:00 2017-01-02 20:19:08.233000-05:00   \n",
      "F9:4A:86:6E:F4:0C 2016-12-27 16:19:30.506000-05:00 2016-12-27 16:19:30.506000-05:00   \n",
      "                  2016-12-27 17:32:51.126000-05:00 2016-12-27 17:32:51.126000-05:00   \n",
      "                  2016-12-27 22:31:09.989000-05:00 2016-12-27 22:31:09.989000-05:00   \n",
      "                  2016-12-27 23:44:59.170000-05:00 2016-12-27 23:44:59.170000-05:00   \n",
      "                  2016-12-29 08:12:06.471000-05:00 2016-12-29 08:12:06.471000-05:00   \n",
      "                  2016-12-29 09:25:32.836000-05:00 2016-12-29 09:25:32.836000-05:00   \n",
      "\n",
      "                                                    time_diff  \n",
      "badge_address     datetime                                     \n",
      "C7:75:13:05:10:EE 2016-12-27 12:52:48.075000-05:00      5.942  \n",
      "                  2016-12-27 23:14:15.760000-05:00   3658.995  \n",
      "                  2016-12-28 18:56:03.527000-05:00   1860.914  \n",
      "                  2016-12-28 21:31:09.236000-05:00   1868.802  \n",
      "                  2016-12-29 15:07:51.556000-05:00   1866.531  \n",
      "                  2016-12-29 16:40:47.463000-05:00   1843.166  \n",
      "                  2016-12-29 20:36:37.504000-05:00   2951.829  \n",
      "                  2016-12-29 21:50:08.478000-05:00      5.998  \n",
      "                  2016-12-30 09:02:47.507000-05:00   1111.231  \n",
      "                  2016-12-30 10:15:49.956000-05:00      5.918  \n",
      "                  2016-12-30 19:46:22.678000-05:00   1042.846  \n",
      "                  2016-12-30 20:59:42.226000-05:00      5.920  \n",
      "                  2016-12-31 06:59:35.789000-05:00   1020.051  \n",
      "                  2016-12-31 08:13:12.427000-05:00      5.917  \n",
      "                  2017-01-01 00:32:17.303000-05:00   1825.946  \n",
      "                  2017-01-01 08:40:35.897000-05:00   3625.382  \n",
      "                  2017-01-01 16:18:45.493000-05:00   1810.685  \n",
      "                  2017-01-02 01:59:09.325000-05:00   1833.378  \n",
      "                  2017-01-02 20:19:08.233000-05:00   1830.263  \n",
      "F9:4A:86:6E:F4:0C 2016-12-27 16:19:30.506000-05:00   1122.901  \n",
      "                  2016-12-27 17:32:51.126000-05:00      5.915  \n",
      "                  2016-12-27 22:31:09.989000-05:00   1037.447  \n",
      "                  2016-12-27 23:44:59.170000-05:00      5.979  \n",
      "                  2016-12-29 08:12:06.471000-05:00   1111.501  \n",
      "                  2016-12-29 09:25:32.836000-05:00      5.963  \n"
     ]
    }
   ],
   "source": [
    "seconds_between_chunks = 50*114/1000\n",
    "print(\"seconds between chunks: {}\".format(seconds_between_chunks))\n",
    "\n",
    "# time between chunks might vary slightly since we update the clock on the badges)\n",
    "seconds_between_chunks = seconds_between_chunks + 0.2\n",
    "print(\"seconds between chunks: {}\".format(seconds_between_chunks))\n",
    "\n",
    "gaps = df_with_lag[df_with_lag['time_diff']>seconds_between_chunks]\n",
    "print(gaps[['badge_address','datetime','time_diff']].head(70))"
   ]
  },
  {
   "cell_type": "markdown",
   "metadata": {},
   "source": [
    "How many gaps are ther then? If you look below, you'll see that the number of gaps is very small. However, you need to remmeber that this include ALL data collected from the badges, even when they started to reset."
   ]
  },
  {
   "cell_type": "code",
   "execution_count": 16,
   "metadata": {
    "collapsed": false
   },
   "outputs": [
    {
     "name": "stdout",
     "output_type": "stream",
     "text": [
      "139369\n",
      "25\n",
      "0.000179379919494\n"
     ]
    }
   ],
   "source": [
    "print(len(df))\n",
    "print(len(gaps))\n",
    "print(len(gaps)/len(df))"
   ]
  },
  {
   "cell_type": "code",
   "execution_count": 17,
   "metadata": {
    "collapsed": false
   },
   "outputs": [
    {
     "data": {
      "text/html": [
       "<div>\n",
       "<table border=\"1\" class=\"dataframe\">\n",
       "  <thead>\n",
       "    <tr style=\"text-align: right;\">\n",
       "      <th></th>\n",
       "      <th></th>\n",
       "      <th>datetime</th>\n",
       "      <th>badge_address</th>\n",
       "      <th>timestamp</th>\n",
       "      <th>timestamp_lag</th>\n",
       "      <th>time_diff</th>\n",
       "    </tr>\n",
       "    <tr>\n",
       "      <th>badge_address</th>\n",
       "      <th>datetime</th>\n",
       "      <th></th>\n",
       "      <th></th>\n",
       "      <th></th>\n",
       "      <th></th>\n",
       "      <th></th>\n",
       "    </tr>\n",
       "  </thead>\n",
       "  <tbody>\n",
       "    <tr>\n",
       "      <th rowspan=\"19\" valign=\"top\">C7:75:13:05:10:EE</th>\n",
       "      <th>2016-12-27 12:52:48.075000-05:00</th>\n",
       "      <td>2016-12-27 12:52:48.075000-05:00</td>\n",
       "      <td>C7:75:13:05:10:EE</td>\n",
       "      <td>1.482861e+09</td>\n",
       "      <td>1.482861e+09</td>\n",
       "      <td>5.942</td>\n",
       "    </tr>\n",
       "    <tr>\n",
       "      <th>2016-12-27 23:14:15.760000-05:00</th>\n",
       "      <td>2016-12-27 23:14:15.760000-05:00</td>\n",
       "      <td>C7:75:13:05:10:EE</td>\n",
       "      <td>1.482898e+09</td>\n",
       "      <td>1.482895e+09</td>\n",
       "      <td>3658.995</td>\n",
       "    </tr>\n",
       "    <tr>\n",
       "      <th>2016-12-28 18:56:03.527000-05:00</th>\n",
       "      <td>2016-12-28 18:56:03.527000-05:00</td>\n",
       "      <td>C7:75:13:05:10:EE</td>\n",
       "      <td>1.482969e+09</td>\n",
       "      <td>1.482968e+09</td>\n",
       "      <td>1860.914</td>\n",
       "    </tr>\n",
       "    <tr>\n",
       "      <th>2016-12-28 21:31:09.236000-05:00</th>\n",
       "      <td>2016-12-28 21:31:09.236000-05:00</td>\n",
       "      <td>C7:75:13:05:10:EE</td>\n",
       "      <td>1.482979e+09</td>\n",
       "      <td>1.482977e+09</td>\n",
       "      <td>1868.802</td>\n",
       "    </tr>\n",
       "    <tr>\n",
       "      <th>2016-12-29 15:07:51.556000-05:00</th>\n",
       "      <td>2016-12-29 15:07:51.556000-05:00</td>\n",
       "      <td>C7:75:13:05:10:EE</td>\n",
       "      <td>1.483042e+09</td>\n",
       "      <td>1.483040e+09</td>\n",
       "      <td>1866.531</td>\n",
       "    </tr>\n",
       "    <tr>\n",
       "      <th>2016-12-29 16:40:47.463000-05:00</th>\n",
       "      <td>2016-12-29 16:40:47.463000-05:00</td>\n",
       "      <td>C7:75:13:05:10:EE</td>\n",
       "      <td>1.483048e+09</td>\n",
       "      <td>1.483046e+09</td>\n",
       "      <td>1843.166</td>\n",
       "    </tr>\n",
       "    <tr>\n",
       "      <th>2016-12-29 20:36:37.504000-05:00</th>\n",
       "      <td>2016-12-29 20:36:37.504000-05:00</td>\n",
       "      <td>C7:75:13:05:10:EE</td>\n",
       "      <td>1.483062e+09</td>\n",
       "      <td>1.483059e+09</td>\n",
       "      <td>2951.829</td>\n",
       "    </tr>\n",
       "    <tr>\n",
       "      <th>2016-12-29 21:50:08.478000-05:00</th>\n",
       "      <td>2016-12-29 21:50:08.478000-05:00</td>\n",
       "      <td>C7:75:13:05:10:EE</td>\n",
       "      <td>1.483066e+09</td>\n",
       "      <td>1.483066e+09</td>\n",
       "      <td>5.998</td>\n",
       "    </tr>\n",
       "    <tr>\n",
       "      <th>2016-12-30 09:02:47.507000-05:00</th>\n",
       "      <td>2016-12-30 09:02:47.507000-05:00</td>\n",
       "      <td>C7:75:13:05:10:EE</td>\n",
       "      <td>1.483107e+09</td>\n",
       "      <td>1.483105e+09</td>\n",
       "      <td>1111.231</td>\n",
       "    </tr>\n",
       "    <tr>\n",
       "      <th>2016-12-30 10:15:49.956000-05:00</th>\n",
       "      <td>2016-12-30 10:15:49.956000-05:00</td>\n",
       "      <td>C7:75:13:05:10:EE</td>\n",
       "      <td>1.483111e+09</td>\n",
       "      <td>1.483111e+09</td>\n",
       "      <td>5.918</td>\n",
       "    </tr>\n",
       "    <tr>\n",
       "      <th>2016-12-30 19:46:22.678000-05:00</th>\n",
       "      <td>2016-12-30 19:46:22.678000-05:00</td>\n",
       "      <td>C7:75:13:05:10:EE</td>\n",
       "      <td>1.483145e+09</td>\n",
       "      <td>1.483144e+09</td>\n",
       "      <td>1042.846</td>\n",
       "    </tr>\n",
       "    <tr>\n",
       "      <th>2016-12-30 20:59:42.226000-05:00</th>\n",
       "      <td>2016-12-30 20:59:42.226000-05:00</td>\n",
       "      <td>C7:75:13:05:10:EE</td>\n",
       "      <td>1.483150e+09</td>\n",
       "      <td>1.483150e+09</td>\n",
       "      <td>5.920</td>\n",
       "    </tr>\n",
       "    <tr>\n",
       "      <th>2016-12-31 06:59:35.789000-05:00</th>\n",
       "      <td>2016-12-31 06:59:35.789000-05:00</td>\n",
       "      <td>C7:75:13:05:10:EE</td>\n",
       "      <td>1.483186e+09</td>\n",
       "      <td>1.483185e+09</td>\n",
       "      <td>1020.051</td>\n",
       "    </tr>\n",
       "    <tr>\n",
       "      <th>2016-12-31 08:13:12.427000-05:00</th>\n",
       "      <td>2016-12-31 08:13:12.427000-05:00</td>\n",
       "      <td>C7:75:13:05:10:EE</td>\n",
       "      <td>1.483190e+09</td>\n",
       "      <td>1.483190e+09</td>\n",
       "      <td>5.917</td>\n",
       "    </tr>\n",
       "    <tr>\n",
       "      <th>2017-01-01 00:32:17.303000-05:00</th>\n",
       "      <td>2017-01-01 00:32:17.303000-05:00</td>\n",
       "      <td>C7:75:13:05:10:EE</td>\n",
       "      <td>1.483249e+09</td>\n",
       "      <td>1.483247e+09</td>\n",
       "      <td>1825.946</td>\n",
       "    </tr>\n",
       "    <tr>\n",
       "      <th>2017-01-01 08:40:35.897000-05:00</th>\n",
       "      <td>2017-01-01 08:40:35.897000-05:00</td>\n",
       "      <td>C7:75:13:05:10:EE</td>\n",
       "      <td>1.483278e+09</td>\n",
       "      <td>1.483274e+09</td>\n",
       "      <td>3625.382</td>\n",
       "    </tr>\n",
       "    <tr>\n",
       "      <th>2017-01-01 16:18:45.493000-05:00</th>\n",
       "      <td>2017-01-01 16:18:45.493000-05:00</td>\n",
       "      <td>C7:75:13:05:10:EE</td>\n",
       "      <td>1.483306e+09</td>\n",
       "      <td>1.483304e+09</td>\n",
       "      <td>1810.685</td>\n",
       "    </tr>\n",
       "    <tr>\n",
       "      <th>2017-01-02 01:59:09.325000-05:00</th>\n",
       "      <td>2017-01-02 01:59:09.325000-05:00</td>\n",
       "      <td>C7:75:13:05:10:EE</td>\n",
       "      <td>1.483340e+09</td>\n",
       "      <td>1.483339e+09</td>\n",
       "      <td>1833.378</td>\n",
       "    </tr>\n",
       "    <tr>\n",
       "      <th>2017-01-02 20:19:08.233000-05:00</th>\n",
       "      <td>2017-01-02 20:19:08.233000-05:00</td>\n",
       "      <td>C7:75:13:05:10:EE</td>\n",
       "      <td>1.483406e+09</td>\n",
       "      <td>1.483405e+09</td>\n",
       "      <td>1830.263</td>\n",
       "    </tr>\n",
       "    <tr>\n",
       "      <th rowspan=\"6\" valign=\"top\">F9:4A:86:6E:F4:0C</th>\n",
       "      <th>2016-12-27 16:19:30.506000-05:00</th>\n",
       "      <td>2016-12-27 16:19:30.506000-05:00</td>\n",
       "      <td>F9:4A:86:6E:F4:0C</td>\n",
       "      <td>1.482874e+09</td>\n",
       "      <td>1.482872e+09</td>\n",
       "      <td>1122.901</td>\n",
       "    </tr>\n",
       "    <tr>\n",
       "      <th>2016-12-27 17:32:51.126000-05:00</th>\n",
       "      <td>2016-12-27 17:32:51.126000-05:00</td>\n",
       "      <td>F9:4A:86:6E:F4:0C</td>\n",
       "      <td>1.482878e+09</td>\n",
       "      <td>1.482878e+09</td>\n",
       "      <td>5.915</td>\n",
       "    </tr>\n",
       "    <tr>\n",
       "      <th>2016-12-27 22:31:09.989000-05:00</th>\n",
       "      <td>2016-12-27 22:31:09.989000-05:00</td>\n",
       "      <td>F9:4A:86:6E:F4:0C</td>\n",
       "      <td>1.482896e+09</td>\n",
       "      <td>1.482895e+09</td>\n",
       "      <td>1037.447</td>\n",
       "    </tr>\n",
       "    <tr>\n",
       "      <th>2016-12-27 23:44:59.170000-05:00</th>\n",
       "      <td>2016-12-27 23:44:59.170000-05:00</td>\n",
       "      <td>F9:4A:86:6E:F4:0C</td>\n",
       "      <td>1.482900e+09</td>\n",
       "      <td>1.482900e+09</td>\n",
       "      <td>5.979</td>\n",
       "    </tr>\n",
       "    <tr>\n",
       "      <th>2016-12-29 08:12:06.471000-05:00</th>\n",
       "      <td>2016-12-29 08:12:06.471000-05:00</td>\n",
       "      <td>F9:4A:86:6E:F4:0C</td>\n",
       "      <td>1.483017e+09</td>\n",
       "      <td>1.483016e+09</td>\n",
       "      <td>1111.501</td>\n",
       "    </tr>\n",
       "    <tr>\n",
       "      <th>2016-12-29 09:25:32.836000-05:00</th>\n",
       "      <td>2016-12-29 09:25:32.836000-05:00</td>\n",
       "      <td>F9:4A:86:6E:F4:0C</td>\n",
       "      <td>1.483022e+09</td>\n",
       "      <td>1.483022e+09</td>\n",
       "      <td>5.963</td>\n",
       "    </tr>\n",
       "  </tbody>\n",
       "</table>\n",
       "</div>"
      ],
      "text/plain": [
       "                                                                           datetime  \\\n",
       "badge_address     datetime                                                            \n",
       "C7:75:13:05:10:EE 2016-12-27 12:52:48.075000-05:00 2016-12-27 12:52:48.075000-05:00   \n",
       "                  2016-12-27 23:14:15.760000-05:00 2016-12-27 23:14:15.760000-05:00   \n",
       "                  2016-12-28 18:56:03.527000-05:00 2016-12-28 18:56:03.527000-05:00   \n",
       "                  2016-12-28 21:31:09.236000-05:00 2016-12-28 21:31:09.236000-05:00   \n",
       "                  2016-12-29 15:07:51.556000-05:00 2016-12-29 15:07:51.556000-05:00   \n",
       "                  2016-12-29 16:40:47.463000-05:00 2016-12-29 16:40:47.463000-05:00   \n",
       "                  2016-12-29 20:36:37.504000-05:00 2016-12-29 20:36:37.504000-05:00   \n",
       "                  2016-12-29 21:50:08.478000-05:00 2016-12-29 21:50:08.478000-05:00   \n",
       "                  2016-12-30 09:02:47.507000-05:00 2016-12-30 09:02:47.507000-05:00   \n",
       "                  2016-12-30 10:15:49.956000-05:00 2016-12-30 10:15:49.956000-05:00   \n",
       "                  2016-12-30 19:46:22.678000-05:00 2016-12-30 19:46:22.678000-05:00   \n",
       "                  2016-12-30 20:59:42.226000-05:00 2016-12-30 20:59:42.226000-05:00   \n",
       "                  2016-12-31 06:59:35.789000-05:00 2016-12-31 06:59:35.789000-05:00   \n",
       "                  2016-12-31 08:13:12.427000-05:00 2016-12-31 08:13:12.427000-05:00   \n",
       "                  2017-01-01 00:32:17.303000-05:00 2017-01-01 00:32:17.303000-05:00   \n",
       "                  2017-01-01 08:40:35.897000-05:00 2017-01-01 08:40:35.897000-05:00   \n",
       "                  2017-01-01 16:18:45.493000-05:00 2017-01-01 16:18:45.493000-05:00   \n",
       "                  2017-01-02 01:59:09.325000-05:00 2017-01-02 01:59:09.325000-05:00   \n",
       "                  2017-01-02 20:19:08.233000-05:00 2017-01-02 20:19:08.233000-05:00   \n",
       "F9:4A:86:6E:F4:0C 2016-12-27 16:19:30.506000-05:00 2016-12-27 16:19:30.506000-05:00   \n",
       "                  2016-12-27 17:32:51.126000-05:00 2016-12-27 17:32:51.126000-05:00   \n",
       "                  2016-12-27 22:31:09.989000-05:00 2016-12-27 22:31:09.989000-05:00   \n",
       "                  2016-12-27 23:44:59.170000-05:00 2016-12-27 23:44:59.170000-05:00   \n",
       "                  2016-12-29 08:12:06.471000-05:00 2016-12-29 08:12:06.471000-05:00   \n",
       "                  2016-12-29 09:25:32.836000-05:00 2016-12-29 09:25:32.836000-05:00   \n",
       "\n",
       "                                                        badge_address  \\\n",
       "badge_address     datetime                                              \n",
       "C7:75:13:05:10:EE 2016-12-27 12:52:48.075000-05:00  C7:75:13:05:10:EE   \n",
       "                  2016-12-27 23:14:15.760000-05:00  C7:75:13:05:10:EE   \n",
       "                  2016-12-28 18:56:03.527000-05:00  C7:75:13:05:10:EE   \n",
       "                  2016-12-28 21:31:09.236000-05:00  C7:75:13:05:10:EE   \n",
       "                  2016-12-29 15:07:51.556000-05:00  C7:75:13:05:10:EE   \n",
       "                  2016-12-29 16:40:47.463000-05:00  C7:75:13:05:10:EE   \n",
       "                  2016-12-29 20:36:37.504000-05:00  C7:75:13:05:10:EE   \n",
       "                  2016-12-29 21:50:08.478000-05:00  C7:75:13:05:10:EE   \n",
       "                  2016-12-30 09:02:47.507000-05:00  C7:75:13:05:10:EE   \n",
       "                  2016-12-30 10:15:49.956000-05:00  C7:75:13:05:10:EE   \n",
       "                  2016-12-30 19:46:22.678000-05:00  C7:75:13:05:10:EE   \n",
       "                  2016-12-30 20:59:42.226000-05:00  C7:75:13:05:10:EE   \n",
       "                  2016-12-31 06:59:35.789000-05:00  C7:75:13:05:10:EE   \n",
       "                  2016-12-31 08:13:12.427000-05:00  C7:75:13:05:10:EE   \n",
       "                  2017-01-01 00:32:17.303000-05:00  C7:75:13:05:10:EE   \n",
       "                  2017-01-01 08:40:35.897000-05:00  C7:75:13:05:10:EE   \n",
       "                  2017-01-01 16:18:45.493000-05:00  C7:75:13:05:10:EE   \n",
       "                  2017-01-02 01:59:09.325000-05:00  C7:75:13:05:10:EE   \n",
       "                  2017-01-02 20:19:08.233000-05:00  C7:75:13:05:10:EE   \n",
       "F9:4A:86:6E:F4:0C 2016-12-27 16:19:30.506000-05:00  F9:4A:86:6E:F4:0C   \n",
       "                  2016-12-27 17:32:51.126000-05:00  F9:4A:86:6E:F4:0C   \n",
       "                  2016-12-27 22:31:09.989000-05:00  F9:4A:86:6E:F4:0C   \n",
       "                  2016-12-27 23:44:59.170000-05:00  F9:4A:86:6E:F4:0C   \n",
       "                  2016-12-29 08:12:06.471000-05:00  F9:4A:86:6E:F4:0C   \n",
       "                  2016-12-29 09:25:32.836000-05:00  F9:4A:86:6E:F4:0C   \n",
       "\n",
       "                                                       timestamp  \\\n",
       "badge_address     datetime                                         \n",
       "C7:75:13:05:10:EE 2016-12-27 12:52:48.075000-05:00  1.482861e+09   \n",
       "                  2016-12-27 23:14:15.760000-05:00  1.482898e+09   \n",
       "                  2016-12-28 18:56:03.527000-05:00  1.482969e+09   \n",
       "                  2016-12-28 21:31:09.236000-05:00  1.482979e+09   \n",
       "                  2016-12-29 15:07:51.556000-05:00  1.483042e+09   \n",
       "                  2016-12-29 16:40:47.463000-05:00  1.483048e+09   \n",
       "                  2016-12-29 20:36:37.504000-05:00  1.483062e+09   \n",
       "                  2016-12-29 21:50:08.478000-05:00  1.483066e+09   \n",
       "                  2016-12-30 09:02:47.507000-05:00  1.483107e+09   \n",
       "                  2016-12-30 10:15:49.956000-05:00  1.483111e+09   \n",
       "                  2016-12-30 19:46:22.678000-05:00  1.483145e+09   \n",
       "                  2016-12-30 20:59:42.226000-05:00  1.483150e+09   \n",
       "                  2016-12-31 06:59:35.789000-05:00  1.483186e+09   \n",
       "                  2016-12-31 08:13:12.427000-05:00  1.483190e+09   \n",
       "                  2017-01-01 00:32:17.303000-05:00  1.483249e+09   \n",
       "                  2017-01-01 08:40:35.897000-05:00  1.483278e+09   \n",
       "                  2017-01-01 16:18:45.493000-05:00  1.483306e+09   \n",
       "                  2017-01-02 01:59:09.325000-05:00  1.483340e+09   \n",
       "                  2017-01-02 20:19:08.233000-05:00  1.483406e+09   \n",
       "F9:4A:86:6E:F4:0C 2016-12-27 16:19:30.506000-05:00  1.482874e+09   \n",
       "                  2016-12-27 17:32:51.126000-05:00  1.482878e+09   \n",
       "                  2016-12-27 22:31:09.989000-05:00  1.482896e+09   \n",
       "                  2016-12-27 23:44:59.170000-05:00  1.482900e+09   \n",
       "                  2016-12-29 08:12:06.471000-05:00  1.483017e+09   \n",
       "                  2016-12-29 09:25:32.836000-05:00  1.483022e+09   \n",
       "\n",
       "                                                    timestamp_lag  time_diff  \n",
       "badge_address     datetime                                                    \n",
       "C7:75:13:05:10:EE 2016-12-27 12:52:48.075000-05:00   1.482861e+09      5.942  \n",
       "                  2016-12-27 23:14:15.760000-05:00   1.482895e+09   3658.995  \n",
       "                  2016-12-28 18:56:03.527000-05:00   1.482968e+09   1860.914  \n",
       "                  2016-12-28 21:31:09.236000-05:00   1.482977e+09   1868.802  \n",
       "                  2016-12-29 15:07:51.556000-05:00   1.483040e+09   1866.531  \n",
       "                  2016-12-29 16:40:47.463000-05:00   1.483046e+09   1843.166  \n",
       "                  2016-12-29 20:36:37.504000-05:00   1.483059e+09   2951.829  \n",
       "                  2016-12-29 21:50:08.478000-05:00   1.483066e+09      5.998  \n",
       "                  2016-12-30 09:02:47.507000-05:00   1.483105e+09   1111.231  \n",
       "                  2016-12-30 10:15:49.956000-05:00   1.483111e+09      5.918  \n",
       "                  2016-12-30 19:46:22.678000-05:00   1.483144e+09   1042.846  \n",
       "                  2016-12-30 20:59:42.226000-05:00   1.483150e+09      5.920  \n",
       "                  2016-12-31 06:59:35.789000-05:00   1.483185e+09   1020.051  \n",
       "                  2016-12-31 08:13:12.427000-05:00   1.483190e+09      5.917  \n",
       "                  2017-01-01 00:32:17.303000-05:00   1.483247e+09   1825.946  \n",
       "                  2017-01-01 08:40:35.897000-05:00   1.483274e+09   3625.382  \n",
       "                  2017-01-01 16:18:45.493000-05:00   1.483304e+09   1810.685  \n",
       "                  2017-01-02 01:59:09.325000-05:00   1.483339e+09   1833.378  \n",
       "                  2017-01-02 20:19:08.233000-05:00   1.483405e+09   1830.263  \n",
       "F9:4A:86:6E:F4:0C 2016-12-27 16:19:30.506000-05:00   1.482872e+09   1122.901  \n",
       "                  2016-12-27 17:32:51.126000-05:00   1.482878e+09      5.915  \n",
       "                  2016-12-27 22:31:09.989000-05:00   1.482895e+09   1037.447  \n",
       "                  2016-12-27 23:44:59.170000-05:00   1.482900e+09      5.979  \n",
       "                  2016-12-29 08:12:06.471000-05:00   1.483016e+09   1111.501  \n",
       "                  2016-12-29 09:25:32.836000-05:00   1.483022e+09      5.963  "
      ]
     },
     "execution_count": 17,
     "metadata": {},
     "output_type": "execute_result"
    }
   ],
   "source": [
    "gaps"
   ]
  },
  {
   "cell_type": "code",
   "execution_count": 18,
   "metadata": {
    "collapsed": false
   },
   "outputs": [
    {
     "data": {
      "text/plain": [
       "badge_address      datetime                        \n",
       "C7:75:13:05:10:EE  2016-12-27 23:14:15.760000-05:00    1482898455.760\n",
       "Name: timestamp, dtype: object"
      ]
     },
     "execution_count": 18,
     "metadata": {},
     "output_type": "execute_result"
    }
   ],
   "source": [
    "gaps[1:2].timestamp.map('{:.3f}'.format)"
   ]
  },
  {
   "cell_type": "code",
   "execution_count": 19,
   "metadata": {
    "collapsed": false
   },
   "outputs": [
    {
     "data": {
      "text/plain": [
       "badge_address      datetime                        \n",
       "C7:75:13:05:10:EE  2016-12-30 09:02:47.507000-05:00    1483106567.507\n",
       "Name: timestamp, dtype: object"
      ]
     },
     "execution_count": 19,
     "metadata": {},
     "output_type": "execute_result"
    }
   ],
   "source": [
    "gaps[8:9].timestamp.map('{:.3f}'.format)"
   ]
  },
  {
   "cell_type": "code",
   "execution_count": 20,
   "metadata": {
    "collapsed": false
   },
   "outputs": [
    {
     "data": {
      "image/png": "[encoded data removed]",
      "text/plain": [
       "<matplotlib.figure.Figure at 0x7f35398001d0>"
      ]
     },
     "metadata": {},
     "output_type": "display_data"
    },
    {
     "data": {
      "text/plain": [
       "<ggplot: (8741660917853)>"
      ]
     },
     "execution_count": 20,
     "metadata": {},
     "output_type": "execute_result"
    }
   ],
   "source": [
    "p = ggplot(aes(x='time_diff', fill='badge_address'), data=gaps)\n",
    "p + geom_histogram(binwidth=1)\n",
    "p + geom_density(alpha=0.25) \n",
    "p + ggtitle(\"Gap (sec)\")"
   ]
  },
  {
   "cell_type": "code",
   "execution_count": null,
   "metadata": {
    "collapsed": true
   },
   "outputs": [],
   "source": []
  }
 ],
 "metadata": {
  "kernelspec": {
   "display_name": "Python 2",
   "language": "python",
   "name": "python2"
  },
  "language_info": {
   "codemirror_mode": {
    "name": "ipython",
    "version": 2
   },
   "file_extension": ".py",
   "mimetype": "text/x-python",
   "name": "python",
   "nbconvert_exporter": "python",
   "pygments_lexer": "ipython2",
   "version": "2.7.6"
  }
 },
 "nbformat": 4,
 "nbformat_minor": 0
}
