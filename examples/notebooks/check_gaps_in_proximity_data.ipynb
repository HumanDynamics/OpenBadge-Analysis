{
 "cells": [
  {
   "cell_type": "markdown",
   "metadata": {},
   "source": [
    "In this notebook, we are looking for gaps in the proximity data collected by two badges - one with an old firmware, and one with the new firmware (2.0)\n",
    "\n",
    "New badge (firmware 2.0) - C7:75:13:05:10:EE\n",
    "\n",
    "Old badge - F9:4A:86:6E:F4:0C"
   ]
  },
  {
   "cell_type": "code",
   "execution_count": 1,
   "metadata": {
    "collapsed": false
   },
   "outputs": [],
   "source": [
    "from __future__ import absolute_import, division, print_function\n",
    "\n",
    "import os\n",
    "import sys\n",
    "import datetime\n",
    "import pandas as pd\n",
    "import numpy as np\n",
    "import pytz\n",
    "import dateutil\n",
    "import gzip\n",
    "\n",
    "from ggplot import *\n",
    "%matplotlib inline\n",
    "\n",
    "# add the 'src' directory as one where we can import modules\n",
    "src_dir = os.path.join(os.getcwd(), os.pardir, os.pardir)\n",
    "sys.path.append(src_dir)\n",
    "\n",
    "# import data analysis modules\n",
    "import openbadge_analysis as ob"
   ]
  },
  {
   "cell_type": "code",
   "execution_count": 2,
   "metadata": {
    "collapsed": false
   },
   "outputs": [],
   "source": [
    "# Load the \"autoreload\" extension\n",
    "%load_ext autoreload\n",
    "# always reload modules marked with \"%aimport\"\n",
    "%autoreload 1\n",
    "# list of modules to autoload\n",
    "%aimport openbadge_analysis"
   ]
  },
  {
   "cell_type": "code",
   "execution_count": 3,
   "metadata": {
    "collapsed": false
   },
   "outputs": [],
   "source": [
    "# config\n",
    "filename = '/home/orenled/temp/logs/log_proximity.txt.gz'\n",
    "log_filename = '/home/orenled/temp/logs/server.log.gz'\n",
    "\n",
    "eastern = pytz.timezone('US/Eastern')\n",
    "utc  = pytz.timezone('UTC')"
   ]
  },
  {
   "cell_type": "markdown",
   "metadata": {},
   "source": [
    "# Find badge first reset"
   ]
  },
  {
   "cell_type": "markdown",
   "metadata": {},
   "source": [
    "If we want to get a real sense of how many gaps we have, we need to discard data after the the badges stared to reset. We need to look at the actualy logfile to find that time. This isn't pretty, but it works."
   ]
  },
  {
   "cell_type": "code",
   "execution_count": 4,
   "metadata": {
    "collapsed": false
   },
   "outputs": [],
   "source": [
    "with gzip.open(log_filename, 'r') as f:\n",
    "    unsync_raw = [ line for line in f if 'unsync' in line]"
   ]
  },
  {
   "cell_type": "code",
   "execution_count": 5,
   "metadata": {
    "collapsed": false
   },
   "outputs": [],
   "source": [
    "import re\n",
    "# use regex to get date and badge\n",
    "unsync_split = [ re.match('(.*) - INFO - \\[(.*)\\]',line).group(1,2) for line in unsync_raw]"
   ]
  },
  {
   "cell_type": "code",
   "execution_count": 6,
   "metadata": {
    "collapsed": false
   },
   "outputs": [
    {
     "name": "stdout",
     "output_type": "stream",
     "text": [
      "                  datetime      badge_address\n",
      "0  2017-01-10 16:03:36,444  C7:75:13:05:10:EE\n",
      "1  2017-01-10 16:03:39,620  C7:59:BE:8B:9C:E0\n",
      "2  2017-01-10 16:03:42,805  F2:37:E3:BA:70:9D\n",
      "3  2017-01-10 16:03:46,686  D4:E4:47:A5:F0:B3\n",
      "4  2017-01-10 16:03:49,766  D8:A1:84:25:FF:B7\n",
      "0    2017-01-10 16:03:36,444\n",
      "1    2017-01-10 16:03:39,620\n",
      "2    2017-01-10 16:03:42,805\n",
      "3    2017-01-10 16:03:46,686\n",
      "4    2017-01-10 16:03:49,766\n",
      "Name: datetime, dtype: object\n"
     ]
    }
   ],
   "source": [
    "# load into a dataframe and convert the date\n",
    "df_log = pd.DataFrame(unsync_split,columns=['datetime','badge_address'])\n",
    "print(df_log.head())\n",
    "print(df_log['datetime'].head())"
   ]
  },
  {
   "cell_type": "code",
   "execution_count": 7,
   "metadata": {
    "collapsed": false
   },
   "outputs": [
    {
     "name": "stdout",
     "output_type": "stream",
     "text": [
      "                                      badge_address\n",
      "datetime                                           \n",
      "2017-01-10 16:03:36.444000-05:00  C7:75:13:05:10:EE\n",
      "2017-01-10 16:03:39.620000-05:00  C7:59:BE:8B:9C:E0\n",
      "2017-01-10 16:03:42.805000-05:00  F2:37:E3:BA:70:9D\n",
      "2017-01-10 16:03:46.686000-05:00  D4:E4:47:A5:F0:B3\n",
      "2017-01-10 16:03:49.766000-05:00  D8:A1:84:25:FF:B7\n",
      "datetime64[ns, US/Eastern]\n"
     ]
    }
   ],
   "source": [
    "df_log['datetime'] = pd.to_datetime(df_log['datetime'], utc=True)\n",
    "df_log.sort_values('datetime')\n",
    "df_log.index = pd.to_datetime(df_log.pop('datetime'), utc=True)\n",
    "\n",
    "# this log is in EST\n",
    "df_log = df_log.tz_localize(eastern)\n",
    "print(df_log.head())\n",
    "print(df_log.index.dtype)"
   ]
  },
  {
   "cell_type": "code",
   "execution_count": 8,
   "metadata": {
    "collapsed": false
   },
   "outputs": [
    {
     "name": "stdout",
     "output_type": "stream",
     "text": [
      "                          datetime      badge_address\n",
      "0 2017-01-10 16:03:36.444000-05:00  C7:75:13:05:10:EE\n",
      "1 2017-01-10 16:03:39.620000-05:00  C7:59:BE:8B:9C:E0\n",
      "2 2017-01-10 16:03:42.805000-05:00  F2:37:E3:BA:70:9D\n",
      "3 2017-01-10 16:03:46.686000-05:00  D4:E4:47:A5:F0:B3\n",
      "4 2017-01-10 16:03:49.766000-05:00  D8:A1:84:25:FF:B7\n",
      "datetime64[ns, US/Eastern]\n"
     ]
    }
   ],
   "source": [
    "# reseting index, now that we converted the timezone (i'm not sure how to do this more efficiently...)\n",
    "df_log = df_log.reset_index()\n",
    "print(df_log.head())\n",
    "print(df_log.datetime.dtype)"
   ]
  },
  {
   "cell_type": "markdown",
   "metadata": {},
   "source": [
    "The first reset (for every badge) is the first time we set the clock, so it's not really a reset"
   ]
  },
  {
   "cell_type": "code",
   "execution_count": 9,
   "metadata": {
    "collapsed": false,
    "scrolled": true
   },
   "outputs": [
    {
     "name": "stdout",
     "output_type": "stream",
     "text": [
      "Start time\n",
      "                                           datetime\n",
      "badge_address                                     \n",
      "C7:59:BE:8B:9C:E0 2017-01-10 16:03:39.620000-05:00\n",
      "C7:75:13:05:10:EE 2017-01-10 16:03:36.444000-05:00\n",
      "D4:E4:47:A5:F0:B3 2017-01-10 16:03:46.686000-05:00\n",
      "D8:A1:84:25:FF:B7 2017-01-10 16:03:49.766000-05:00\n",
      "F2:37:E3:BA:70:9D 2017-01-10 16:03:42.805000-05:00 \n",
      "\n",
      "\n",
      "First reset\n",
      "                                           datetime\n",
      "badge_address                                     \n",
      "C7:59:BE:8B:9C:E0 2017-01-17 08:43:16.419000-05:00\n",
      "C7:75:13:05:10:EE 2017-01-16 00:06:19.142000-05:00\n",
      "D4:E4:47:A5:F0:B3 2017-01-16 08:37:29.222000-05:00\n",
      "D8:A1:84:25:FF:B7 2017-01-17 01:29:20.823000-05:00\n",
      "F2:37:E3:BA:70:9D 2017-01-16 03:27:32.448000-05:00 \n",
      "\n",
      "\n",
      "First reset, restructured\n",
      "        badge_address  first_reset_timestamp\n",
      "0  C7:59:BE:8B:9C:E0           1.484661e+09\n",
      "1  C7:75:13:05:10:EE           1.484543e+09\n",
      "2  D4:E4:47:A5:F0:B3           1.484574e+09\n",
      "3  D8:A1:84:25:FF:B7           1.484635e+09\n",
      "4  F2:37:E3:BA:70:9D           1.484555e+09 \n",
      "\n",
      "\n"
     ]
    }
   ],
   "source": [
    "df_log_grp = df_log.groupby('badge_address')\n",
    "start_time = df_log_grp.nth(0)\n",
    "print(\"Start time\\n\",start_time,\"\\n\\n\")\n",
    "\n",
    "first_reset = df_log_grp.nth(1)\n",
    "print(\"First reset\\n\",first_reset,\"\\n\\n\")\n",
    "\n",
    "# change to a more convinient format\n",
    "first_reset = first_reset.reset_index()\n",
    "first_reset.rename(columns={'datetime': 'first_reset_datetime'}, inplace=True)\n",
    "first_reset['first_reset_timestamp'] = first_reset.pop('first_reset_datetime').astype(np.int64)//1e9\n",
    "print(\"First reset, restructured\\n\", first_reset,\"\\n\\n\")"
   ]
  },
  {
   "cell_type": "markdown",
   "metadata": {},
   "source": [
    "# Look for gaps"
   ]
  },
  {
   "cell_type": "code",
   "execution_count": 10,
   "metadata": {
    "collapsed": true
   },
   "outputs": [],
   "source": [
    "with gzip.open(filename, 'r') as f:\n",
    "    proximity_chunks = ob.load_proximity_chunks_as_json_objects(f, log_version='2.0')"
   ]
  },
  {
   "cell_type": "code",
   "execution_count": 11,
   "metadata": {
    "collapsed": false
   },
   "outputs": [
    {
     "name": "stdout",
     "output_type": "stream",
     "text": [
      "                   datetime      badge_address     timestamp\n",
      "0 2017-01-10 16:04:36-05:00  C7:75:13:05:10:EE  1.484082e+09\n",
      "1 2017-01-10 16:04:39-05:00  C7:59:BE:8B:9C:E0  1.484082e+09\n",
      "2 2017-01-10 16:04:42-05:00  F2:37:E3:BA:70:9D  1.484082e+09\n",
      "3 2017-01-10 16:04:46-05:00  D4:E4:47:A5:F0:B3  1.484082e+09\n",
      "4 2017-01-10 16:04:49-05:00  D8:A1:84:25:FF:B7  1.484082e+09\n",
      "5 2017-01-10 16:05:36-05:00  C7:75:13:05:10:EE  1.484082e+09\n",
      "6 2017-01-10 16:05:42-05:00  F2:37:E3:BA:70:9D  1.484082e+09\n",
      "7 2017-01-10 16:05:46-05:00  D4:E4:47:A5:F0:B3  1.484082e+09\n",
      "8 2017-01-10 16:05:49-05:00  D8:A1:84:25:FF:B7  1.484082e+09\n",
      "9 2017-01-10 16:05:39-05:00  C7:59:BE:8B:9C:E0  1.484082e+09\n",
      "datetime         datetime64[ns, US/Eastern]\n",
      "badge_address                        object\n",
      "timestamp                           float64\n",
      "dtype: object\n"
     ]
    }
   ],
   "source": [
    "# load data into a data frame\n",
    "df = pd.DataFrame(proximity_chunks,columns=['badge_address','timestamp'])\n",
    "\n",
    "# Converting timestamp (epoch) to UTC datetime\n",
    "df['datetime'] = pd.to_datetime(df['timestamp'],unit='s', utc=True)\n",
    "\n",
    "# Setting datetime as index\n",
    "df.sort_values('datetime')\n",
    "df.index = pd.to_datetime(df.pop('datetime'), utc=True)\n",
    "df = df.tz_localize(utc)\n",
    "df = df.tz_convert(eastern)\n",
    "df = df.reset_index() # make it a column again\n",
    "\n",
    "print(df.head(10))\n",
    "print(df.dtypes)"
   ]
  },
  {
   "cell_type": "markdown",
   "metadata": {},
   "source": [
    "## Filter based on first reset time"
   ]
  },
  {
   "cell_type": "code",
   "execution_count": 12,
   "metadata": {
    "collapsed": false
   },
   "outputs": [
    {
     "name": "stdout",
     "output_type": "stream",
     "text": [
      "Records before filtering: 42910, after: 42649\n"
     ]
    }
   ],
   "source": [
    "if (len(first_reset)) > 0:\n",
    "    df_fil = pd.merge(df,first_reset,how='left',on='badge_address')\n",
    "    df_fil = df_fil[df_fil['timestamp'] < df_fil['first_reset_timestamp']]\n",
    "    print(\"Records before filtering: {}, after: {}\".format(len(df),len(df_fil)))\n",
    "\n",
    "    #df_fil.index =  df_fil['datetime']\n",
    "    del df_fil['first_reset_timestamp']\n",
    "else:\n",
    "    df_fil = df"
   ]
  },
  {
   "cell_type": "markdown",
   "metadata": {},
   "source": [
    "## Check for gaps in data"
   ]
  },
  {
   "cell_type": "markdown",
   "metadata": {},
   "source": [
    "calculations are per-badge, so we must create a multi index. Then, per-group calculations can be done with group by"
   ]
  },
  {
   "cell_type": "code",
   "execution_count": 13,
   "metadata": {
    "collapsed": false
   },
   "outputs": [
    {
     "name": "stdout",
     "output_type": "stream",
     "text": [
      "                                                             datetime  \\\n",
      "badge_address     datetime                                              \n",
      "C7:59:BE:8B:9C:E0 2017-01-10 16:04:39-05:00 2017-01-10 16:04:39-05:00   \n",
      "                  2017-01-10 16:05:39-05:00 2017-01-10 16:05:39-05:00   \n",
      "                  2017-01-10 16:06:39-05:00 2017-01-10 16:06:39-05:00   \n",
      "                  2017-01-10 16:07:39-05:00 2017-01-10 16:07:39-05:00   \n",
      "                  2017-01-10 16:08:39-05:00 2017-01-10 16:08:39-05:00   \n",
      "\n",
      "                                                 badge_address     timestamp  \n",
      "badge_address     datetime                                                    \n",
      "C7:59:BE:8B:9C:E0 2017-01-10 16:04:39-05:00  C7:59:BE:8B:9C:E0  1.484082e+09  \n",
      "                  2017-01-10 16:05:39-05:00  C7:59:BE:8B:9C:E0  1.484082e+09  \n",
      "                  2017-01-10 16:06:39-05:00  C7:59:BE:8B:9C:E0  1.484082e+09  \n",
      "                  2017-01-10 16:07:39-05:00  C7:59:BE:8B:9C:E0  1.484082e+09  \n",
      "                  2017-01-10 16:08:39-05:00  C7:59:BE:8B:9C:E0  1.484083e+09  \n"
     ]
    }
   ],
   "source": [
    "# http://pandas.pydata.org/pandas-docs/stable/advanced.html\n",
    "# set multi-index\n",
    "df_fil.set_index(['badge_address', 'datetime'], inplace=True, drop=False)\n",
    "\n",
    "# sort is important for shift to work properly\n",
    "df_fil.sort_index(inplace=True)\n",
    "print(df_fil.head())"
   ]
  },
  {
   "cell_type": "code",
   "execution_count": 14,
   "metadata": {
    "collapsed": false
   },
   "outputs": [
    {
     "name": "stdout",
     "output_type": "stream",
     "text": [
      "index dtype:  object\n",
      "Timediff type: float64\n",
      "                                                             datetime  \\\n",
      "badge_address     datetime                                              \n",
      "C7:59:BE:8B:9C:E0 2017-01-10 16:04:39-05:00 2017-01-10 16:04:39-05:00   \n",
      "                  2017-01-10 16:05:39-05:00 2017-01-10 16:05:39-05:00   \n",
      "                  2017-01-10 16:06:39-05:00 2017-01-10 16:06:39-05:00   \n",
      "                  2017-01-10 16:07:39-05:00 2017-01-10 16:07:39-05:00   \n",
      "                  2017-01-10 16:08:39-05:00 2017-01-10 16:08:39-05:00   \n",
      "\n",
      "                                                 badge_address     timestamp  \\\n",
      "badge_address     datetime                                                     \n",
      "C7:59:BE:8B:9C:E0 2017-01-10 16:04:39-05:00  C7:59:BE:8B:9C:E0  1.484082e+09   \n",
      "                  2017-01-10 16:05:39-05:00  C7:59:BE:8B:9C:E0  1.484082e+09   \n",
      "                  2017-01-10 16:06:39-05:00  C7:59:BE:8B:9C:E0  1.484082e+09   \n",
      "                  2017-01-10 16:07:39-05:00  C7:59:BE:8B:9C:E0  1.484082e+09   \n",
      "                  2017-01-10 16:08:39-05:00  C7:59:BE:8B:9C:E0  1.484083e+09   \n",
      "\n",
      "                                             timestamp_lag  time_diff  \n",
      "badge_address     datetime                                             \n",
      "C7:59:BE:8B:9C:E0 2017-01-10 16:04:39-05:00            NaN        NaN  \n",
      "                  2017-01-10 16:05:39-05:00   1.484082e+09       60.0  \n",
      "                  2017-01-10 16:06:39-05:00   1.484082e+09       60.0  \n",
      "                  2017-01-10 16:07:39-05:00   1.484082e+09       60.0  \n",
      "                  2017-01-10 16:08:39-05:00   1.484082e+09       60.0  \n"
     ]
    }
   ],
   "source": [
    "# http://pandas.pydata.org/pandas-docs/stable/groupby.html\n",
    "# group by badges, and shift ones so we can get the time of the previous row\n",
    "grp_shift = df_fil.groupby(level=[0]).shift(1)\n",
    "df_with_lag = df_fil.copy()\n",
    "df_with_lag['timestamp_lag']= grp_shift['timestamp']\n",
    "df_with_lag['time_diff']=df_with_lag['timestamp']-df_with_lag['timestamp_lag']\n",
    "print(\"index dtype: \",df_with_lag.index.dtype)\n",
    "print(\"Timediff type:\", df_with_lag.time_diff.dtype)\n",
    "print(df_with_lag.head())"
   ]
  },
  {
   "cell_type": "markdown",
   "metadata": {},
   "source": [
    "Scans are performed every 60 seconds"
   ]
  },
  {
   "cell_type": "code",
   "execution_count": 15,
   "metadata": {
    "collapsed": false
   },
   "outputs": [
    {
     "name": "stdout",
     "output_type": "stream",
     "text": [
      "seconds between chunks: 60\n",
      "seconds between chunks: 62\n",
      "                                             time_diff     timestamp\n",
      "badge_address     datetime                                          \n",
      "C7:59:BE:8B:9C:E0 2017-01-17 02:00:59-05:00      120.0  1.484636e+09\n",
      "                  2017-01-17 03:20:59-05:00     1020.0  1.484641e+09\n",
      "                  2017-01-17 03:25:59-05:00      300.0  1.484642e+09\n",
      "                  2017-01-17 03:28:59-05:00      180.0  1.484642e+09\n",
      "                  2017-01-17 03:34:59-05:00      180.0  1.484642e+09\n",
      "                  2017-01-17 03:39:59-05:00      240.0  1.484642e+09\n",
      "                  2017-01-17 03:42:59-05:00      180.0  1.484643e+09\n",
      "                  2017-01-17 03:45:59-05:00      120.0  1.484643e+09\n",
      "                  2017-01-17 03:49:59-05:00      120.0  1.484643e+09\n",
      "                  2017-01-17 03:52:59-05:00      120.0  1.484643e+09\n",
      "                  2017-01-17 04:14:59-05:00     1320.0  1.484644e+09\n",
      "                  2017-01-17 04:38:59-05:00     1440.0  1.484646e+09\n",
      "                  2017-01-17 04:45:59-05:00      420.0  1.484646e+09\n",
      "                  2017-01-17 04:55:59-05:00      540.0  1.484647e+09\n",
      "C7:75:13:05:10:EE 2017-01-15 22:12:54-05:00      120.0  1.484536e+09\n",
      "D8:A1:84:25:FF:B7 2017-01-17 00:05:11-05:00      360.0  1.484630e+09\n",
      "                  2017-01-17 00:12:11-05:00      300.0  1.484630e+09\n",
      "                  2017-01-17 00:14:11-05:00      120.0  1.484630e+09\n",
      "                  2017-01-17 00:20:11-05:00      300.0  1.484630e+09\n",
      "                  2017-01-17 00:22:11-05:00      120.0  1.484631e+09\n",
      "                  2017-01-17 00:31:11-05:00      480.0  1.484631e+09\n",
      "                  2017-01-17 00:36:11-05:00      300.0  1.484631e+09\n",
      "                  2017-01-17 00:55:11-05:00     1140.0  1.484633e+09\n",
      "                  2017-01-17 01:10:11-05:00      900.0  1.484633e+09\n",
      "                  2017-01-17 01:13:11-05:00      180.0  1.484634e+09\n"
     ]
    }
   ],
   "source": [
    "seconds_between_chunks = 60\n",
    "print(\"seconds between chunks: {}\".format(seconds_between_chunks))\n",
    "\n",
    "# time between chunks might vary slightly\n",
    "seconds_between_chunks = seconds_between_chunks + 2\n",
    "print(\"seconds between chunks: {}\".format(seconds_between_chunks))\n",
    "\n",
    "gaps = df_with_lag[df_with_lag['time_diff']>seconds_between_chunks]\n",
    "print(gaps[['time_diff','timestamp']].head(70))"
   ]
  },
  {
   "cell_type": "markdown",
   "metadata": {},
   "source": [
    "How many gaps are ther then? If you look below, you'll see that the number of gaps is very small. However, you need to remmeber that this include ALL data collected from the badges, even when they started to reset."
   ]
  },
  {
   "cell_type": "code",
   "execution_count": 16,
   "metadata": {
    "collapsed": false
   },
   "outputs": [
    {
     "name": "stdout",
     "output_type": "stream",
     "text": [
      "42910\n",
      "25\n",
      "0.000582614775111\n"
     ]
    }
   ],
   "source": [
    "print(len(df))\n",
    "print(len(gaps))\n",
    "print(len(gaps)/len(df))"
   ]
  },
  {
   "cell_type": "code",
   "execution_count": 17,
   "metadata": {
    "collapsed": false
   },
   "outputs": [
    {
     "data": {
      "text/html": [
       "<div>\n",
       "<table border=\"1\" class=\"dataframe\">\n",
       "  <thead>\n",
       "    <tr style=\"text-align: right;\">\n",
       "      <th></th>\n",
       "      <th></th>\n",
       "      <th>datetime</th>\n",
       "      <th>badge_address</th>\n",
       "      <th>timestamp</th>\n",
       "      <th>timestamp_lag</th>\n",
       "      <th>time_diff</th>\n",
       "    </tr>\n",
       "    <tr>\n",
       "      <th>badge_address</th>\n",
       "      <th>datetime</th>\n",
       "      <th></th>\n",
       "      <th></th>\n",
       "      <th></th>\n",
       "      <th></th>\n",
       "      <th></th>\n",
       "    </tr>\n",
       "  </thead>\n",
       "  <tbody>\n",
       "    <tr>\n",
       "      <th rowspan=\"14\" valign=\"top\">C7:59:BE:8B:9C:E0</th>\n",
       "      <th>2017-01-17 02:00:59-05:00</th>\n",
       "      <td>2017-01-17 02:00:59-05:00</td>\n",
       "      <td>C7:59:BE:8B:9C:E0</td>\n",
       "      <td>1.484636e+09</td>\n",
       "      <td>1.484636e+09</td>\n",
       "      <td>120.0</td>\n",
       "    </tr>\n",
       "    <tr>\n",
       "      <th>2017-01-17 03:20:59-05:00</th>\n",
       "      <td>2017-01-17 03:20:59-05:00</td>\n",
       "      <td>C7:59:BE:8B:9C:E0</td>\n",
       "      <td>1.484641e+09</td>\n",
       "      <td>1.484640e+09</td>\n",
       "      <td>1020.0</td>\n",
       "    </tr>\n",
       "    <tr>\n",
       "      <th>2017-01-17 03:25:59-05:00</th>\n",
       "      <td>2017-01-17 03:25:59-05:00</td>\n",
       "      <td>C7:59:BE:8B:9C:E0</td>\n",
       "      <td>1.484642e+09</td>\n",
       "      <td>1.484641e+09</td>\n",
       "      <td>300.0</td>\n",
       "    </tr>\n",
       "    <tr>\n",
       "      <th>2017-01-17 03:28:59-05:00</th>\n",
       "      <td>2017-01-17 03:28:59-05:00</td>\n",
       "      <td>C7:59:BE:8B:9C:E0</td>\n",
       "      <td>1.484642e+09</td>\n",
       "      <td>1.484642e+09</td>\n",
       "      <td>180.0</td>\n",
       "    </tr>\n",
       "    <tr>\n",
       "      <th>2017-01-17 03:34:59-05:00</th>\n",
       "      <td>2017-01-17 03:34:59-05:00</td>\n",
       "      <td>C7:59:BE:8B:9C:E0</td>\n",
       "      <td>1.484642e+09</td>\n",
       "      <td>1.484642e+09</td>\n",
       "      <td>180.0</td>\n",
       "    </tr>\n",
       "    <tr>\n",
       "      <th>2017-01-17 03:39:59-05:00</th>\n",
       "      <td>2017-01-17 03:39:59-05:00</td>\n",
       "      <td>C7:59:BE:8B:9C:E0</td>\n",
       "      <td>1.484642e+09</td>\n",
       "      <td>1.484642e+09</td>\n",
       "      <td>240.0</td>\n",
       "    </tr>\n",
       "    <tr>\n",
       "      <th>2017-01-17 03:42:59-05:00</th>\n",
       "      <td>2017-01-17 03:42:59-05:00</td>\n",
       "      <td>C7:59:BE:8B:9C:E0</td>\n",
       "      <td>1.484643e+09</td>\n",
       "      <td>1.484642e+09</td>\n",
       "      <td>180.0</td>\n",
       "    </tr>\n",
       "    <tr>\n",
       "      <th>2017-01-17 03:45:59-05:00</th>\n",
       "      <td>2017-01-17 03:45:59-05:00</td>\n",
       "      <td>C7:59:BE:8B:9C:E0</td>\n",
       "      <td>1.484643e+09</td>\n",
       "      <td>1.484643e+09</td>\n",
       "      <td>120.0</td>\n",
       "    </tr>\n",
       "    <tr>\n",
       "      <th>2017-01-17 03:49:59-05:00</th>\n",
       "      <td>2017-01-17 03:49:59-05:00</td>\n",
       "      <td>C7:59:BE:8B:9C:E0</td>\n",
       "      <td>1.484643e+09</td>\n",
       "      <td>1.484643e+09</td>\n",
       "      <td>120.0</td>\n",
       "    </tr>\n",
       "    <tr>\n",
       "      <th>2017-01-17 03:52:59-05:00</th>\n",
       "      <td>2017-01-17 03:52:59-05:00</td>\n",
       "      <td>C7:59:BE:8B:9C:E0</td>\n",
       "      <td>1.484643e+09</td>\n",
       "      <td>1.484643e+09</td>\n",
       "      <td>120.0</td>\n",
       "    </tr>\n",
       "    <tr>\n",
       "      <th>2017-01-17 04:14:59-05:00</th>\n",
       "      <td>2017-01-17 04:14:59-05:00</td>\n",
       "      <td>C7:59:BE:8B:9C:E0</td>\n",
       "      <td>1.484644e+09</td>\n",
       "      <td>1.484643e+09</td>\n",
       "      <td>1320.0</td>\n",
       "    </tr>\n",
       "    <tr>\n",
       "      <th>2017-01-17 04:38:59-05:00</th>\n",
       "      <td>2017-01-17 04:38:59-05:00</td>\n",
       "      <td>C7:59:BE:8B:9C:E0</td>\n",
       "      <td>1.484646e+09</td>\n",
       "      <td>1.484644e+09</td>\n",
       "      <td>1440.0</td>\n",
       "    </tr>\n",
       "    <tr>\n",
       "      <th>2017-01-17 04:45:59-05:00</th>\n",
       "      <td>2017-01-17 04:45:59-05:00</td>\n",
       "      <td>C7:59:BE:8B:9C:E0</td>\n",
       "      <td>1.484646e+09</td>\n",
       "      <td>1.484646e+09</td>\n",
       "      <td>420.0</td>\n",
       "    </tr>\n",
       "    <tr>\n",
       "      <th>2017-01-17 04:55:59-05:00</th>\n",
       "      <td>2017-01-17 04:55:59-05:00</td>\n",
       "      <td>C7:59:BE:8B:9C:E0</td>\n",
       "      <td>1.484647e+09</td>\n",
       "      <td>1.484646e+09</td>\n",
       "      <td>540.0</td>\n",
       "    </tr>\n",
       "    <tr>\n",
       "      <th>C7:75:13:05:10:EE</th>\n",
       "      <th>2017-01-15 22:12:54-05:00</th>\n",
       "      <td>2017-01-15 22:12:54-05:00</td>\n",
       "      <td>C7:75:13:05:10:EE</td>\n",
       "      <td>1.484536e+09</td>\n",
       "      <td>1.484536e+09</td>\n",
       "      <td>120.0</td>\n",
       "    </tr>\n",
       "    <tr>\n",
       "      <th rowspan=\"10\" valign=\"top\">D8:A1:84:25:FF:B7</th>\n",
       "      <th>2017-01-17 00:05:11-05:00</th>\n",
       "      <td>2017-01-17 00:05:11-05:00</td>\n",
       "      <td>D8:A1:84:25:FF:B7</td>\n",
       "      <td>1.484630e+09</td>\n",
       "      <td>1.484629e+09</td>\n",
       "      <td>360.0</td>\n",
       "    </tr>\n",
       "    <tr>\n",
       "      <th>2017-01-17 00:12:11-05:00</th>\n",
       "      <td>2017-01-17 00:12:11-05:00</td>\n",
       "      <td>D8:A1:84:25:FF:B7</td>\n",
       "      <td>1.484630e+09</td>\n",
       "      <td>1.484630e+09</td>\n",
       "      <td>300.0</td>\n",
       "    </tr>\n",
       "    <tr>\n",
       "      <th>2017-01-17 00:14:11-05:00</th>\n",
       "      <td>2017-01-17 00:14:11-05:00</td>\n",
       "      <td>D8:A1:84:25:FF:B7</td>\n",
       "      <td>1.484630e+09</td>\n",
       "      <td>1.484630e+09</td>\n",
       "      <td>120.0</td>\n",
       "    </tr>\n",
       "    <tr>\n",
       "      <th>2017-01-17 00:20:11-05:00</th>\n",
       "      <td>2017-01-17 00:20:11-05:00</td>\n",
       "      <td>D8:A1:84:25:FF:B7</td>\n",
       "      <td>1.484630e+09</td>\n",
       "      <td>1.484630e+09</td>\n",
       "      <td>300.0</td>\n",
       "    </tr>\n",
       "    <tr>\n",
       "      <th>2017-01-17 00:22:11-05:00</th>\n",
       "      <td>2017-01-17 00:22:11-05:00</td>\n",
       "      <td>D8:A1:84:25:FF:B7</td>\n",
       "      <td>1.484631e+09</td>\n",
       "      <td>1.484630e+09</td>\n",
       "      <td>120.0</td>\n",
       "    </tr>\n",
       "    <tr>\n",
       "      <th>2017-01-17 00:31:11-05:00</th>\n",
       "      <td>2017-01-17 00:31:11-05:00</td>\n",
       "      <td>D8:A1:84:25:FF:B7</td>\n",
       "      <td>1.484631e+09</td>\n",
       "      <td>1.484631e+09</td>\n",
       "      <td>480.0</td>\n",
       "    </tr>\n",
       "    <tr>\n",
       "      <th>2017-01-17 00:36:11-05:00</th>\n",
       "      <td>2017-01-17 00:36:11-05:00</td>\n",
       "      <td>D8:A1:84:25:FF:B7</td>\n",
       "      <td>1.484631e+09</td>\n",
       "      <td>1.484631e+09</td>\n",
       "      <td>300.0</td>\n",
       "    </tr>\n",
       "    <tr>\n",
       "      <th>2017-01-17 00:55:11-05:00</th>\n",
       "      <td>2017-01-17 00:55:11-05:00</td>\n",
       "      <td>D8:A1:84:25:FF:B7</td>\n",
       "      <td>1.484633e+09</td>\n",
       "      <td>1.484631e+09</td>\n",
       "      <td>1140.0</td>\n",
       "    </tr>\n",
       "    <tr>\n",
       "      <th>2017-01-17 01:10:11-05:00</th>\n",
       "      <td>2017-01-17 01:10:11-05:00</td>\n",
       "      <td>D8:A1:84:25:FF:B7</td>\n",
       "      <td>1.484633e+09</td>\n",
       "      <td>1.484633e+09</td>\n",
       "      <td>900.0</td>\n",
       "    </tr>\n",
       "    <tr>\n",
       "      <th>2017-01-17 01:13:11-05:00</th>\n",
       "      <td>2017-01-17 01:13:11-05:00</td>\n",
       "      <td>D8:A1:84:25:FF:B7</td>\n",
       "      <td>1.484634e+09</td>\n",
       "      <td>1.484633e+09</td>\n",
       "      <td>180.0</td>\n",
       "    </tr>\n",
       "  </tbody>\n",
       "</table>\n",
       "</div>"
      ],
      "text/plain": [
       "                                                             datetime  \\\n",
       "badge_address     datetime                                              \n",
       "C7:59:BE:8B:9C:E0 2017-01-17 02:00:59-05:00 2017-01-17 02:00:59-05:00   \n",
       "                  2017-01-17 03:20:59-05:00 2017-01-17 03:20:59-05:00   \n",
       "                  2017-01-17 03:25:59-05:00 2017-01-17 03:25:59-05:00   \n",
       "                  2017-01-17 03:28:59-05:00 2017-01-17 03:28:59-05:00   \n",
       "                  2017-01-17 03:34:59-05:00 2017-01-17 03:34:59-05:00   \n",
       "                  2017-01-17 03:39:59-05:00 2017-01-17 03:39:59-05:00   \n",
       "                  2017-01-17 03:42:59-05:00 2017-01-17 03:42:59-05:00   \n",
       "                  2017-01-17 03:45:59-05:00 2017-01-17 03:45:59-05:00   \n",
       "                  2017-01-17 03:49:59-05:00 2017-01-17 03:49:59-05:00   \n",
       "                  2017-01-17 03:52:59-05:00 2017-01-17 03:52:59-05:00   \n",
       "                  2017-01-17 04:14:59-05:00 2017-01-17 04:14:59-05:00   \n",
       "                  2017-01-17 04:38:59-05:00 2017-01-17 04:38:59-05:00   \n",
       "                  2017-01-17 04:45:59-05:00 2017-01-17 04:45:59-05:00   \n",
       "                  2017-01-17 04:55:59-05:00 2017-01-17 04:55:59-05:00   \n",
       "C7:75:13:05:10:EE 2017-01-15 22:12:54-05:00 2017-01-15 22:12:54-05:00   \n",
       "D8:A1:84:25:FF:B7 2017-01-17 00:05:11-05:00 2017-01-17 00:05:11-05:00   \n",
       "                  2017-01-17 00:12:11-05:00 2017-01-17 00:12:11-05:00   \n",
       "                  2017-01-17 00:14:11-05:00 2017-01-17 00:14:11-05:00   \n",
       "                  2017-01-17 00:20:11-05:00 2017-01-17 00:20:11-05:00   \n",
       "                  2017-01-17 00:22:11-05:00 2017-01-17 00:22:11-05:00   \n",
       "                  2017-01-17 00:31:11-05:00 2017-01-17 00:31:11-05:00   \n",
       "                  2017-01-17 00:36:11-05:00 2017-01-17 00:36:11-05:00   \n",
       "                  2017-01-17 00:55:11-05:00 2017-01-17 00:55:11-05:00   \n",
       "                  2017-01-17 01:10:11-05:00 2017-01-17 01:10:11-05:00   \n",
       "                  2017-01-17 01:13:11-05:00 2017-01-17 01:13:11-05:00   \n",
       "\n",
       "                                                 badge_address     timestamp  \\\n",
       "badge_address     datetime                                                     \n",
       "C7:59:BE:8B:9C:E0 2017-01-17 02:00:59-05:00  C7:59:BE:8B:9C:E0  1.484636e+09   \n",
       "                  2017-01-17 03:20:59-05:00  C7:59:BE:8B:9C:E0  1.484641e+09   \n",
       "                  2017-01-17 03:25:59-05:00  C7:59:BE:8B:9C:E0  1.484642e+09   \n",
       "                  2017-01-17 03:28:59-05:00  C7:59:BE:8B:9C:E0  1.484642e+09   \n",
       "                  2017-01-17 03:34:59-05:00  C7:59:BE:8B:9C:E0  1.484642e+09   \n",
       "                  2017-01-17 03:39:59-05:00  C7:59:BE:8B:9C:E0  1.484642e+09   \n",
       "                  2017-01-17 03:42:59-05:00  C7:59:BE:8B:9C:E0  1.484643e+09   \n",
       "                  2017-01-17 03:45:59-05:00  C7:59:BE:8B:9C:E0  1.484643e+09   \n",
       "                  2017-01-17 03:49:59-05:00  C7:59:BE:8B:9C:E0  1.484643e+09   \n",
       "                  2017-01-17 03:52:59-05:00  C7:59:BE:8B:9C:E0  1.484643e+09   \n",
       "                  2017-01-17 04:14:59-05:00  C7:59:BE:8B:9C:E0  1.484644e+09   \n",
       "                  2017-01-17 04:38:59-05:00  C7:59:BE:8B:9C:E0  1.484646e+09   \n",
       "                  2017-01-17 04:45:59-05:00  C7:59:BE:8B:9C:E0  1.484646e+09   \n",
       "                  2017-01-17 04:55:59-05:00  C7:59:BE:8B:9C:E0  1.484647e+09   \n",
       "C7:75:13:05:10:EE 2017-01-15 22:12:54-05:00  C7:75:13:05:10:EE  1.484536e+09   \n",
       "D8:A1:84:25:FF:B7 2017-01-17 00:05:11-05:00  D8:A1:84:25:FF:B7  1.484630e+09   \n",
       "                  2017-01-17 00:12:11-05:00  D8:A1:84:25:FF:B7  1.484630e+09   \n",
       "                  2017-01-17 00:14:11-05:00  D8:A1:84:25:FF:B7  1.484630e+09   \n",
       "                  2017-01-17 00:20:11-05:00  D8:A1:84:25:FF:B7  1.484630e+09   \n",
       "                  2017-01-17 00:22:11-05:00  D8:A1:84:25:FF:B7  1.484631e+09   \n",
       "                  2017-01-17 00:31:11-05:00  D8:A1:84:25:FF:B7  1.484631e+09   \n",
       "                  2017-01-17 00:36:11-05:00  D8:A1:84:25:FF:B7  1.484631e+09   \n",
       "                  2017-01-17 00:55:11-05:00  D8:A1:84:25:FF:B7  1.484633e+09   \n",
       "                  2017-01-17 01:10:11-05:00  D8:A1:84:25:FF:B7  1.484633e+09   \n",
       "                  2017-01-17 01:13:11-05:00  D8:A1:84:25:FF:B7  1.484634e+09   \n",
       "\n",
       "                                             timestamp_lag  time_diff  \n",
       "badge_address     datetime                                             \n",
       "C7:59:BE:8B:9C:E0 2017-01-17 02:00:59-05:00   1.484636e+09      120.0  \n",
       "                  2017-01-17 03:20:59-05:00   1.484640e+09     1020.0  \n",
       "                  2017-01-17 03:25:59-05:00   1.484641e+09      300.0  \n",
       "                  2017-01-17 03:28:59-05:00   1.484642e+09      180.0  \n",
       "                  2017-01-17 03:34:59-05:00   1.484642e+09      180.0  \n",
       "                  2017-01-17 03:39:59-05:00   1.484642e+09      240.0  \n",
       "                  2017-01-17 03:42:59-05:00   1.484642e+09      180.0  \n",
       "                  2017-01-17 03:45:59-05:00   1.484643e+09      120.0  \n",
       "                  2017-01-17 03:49:59-05:00   1.484643e+09      120.0  \n",
       "                  2017-01-17 03:52:59-05:00   1.484643e+09      120.0  \n",
       "                  2017-01-17 04:14:59-05:00   1.484643e+09     1320.0  \n",
       "                  2017-01-17 04:38:59-05:00   1.484644e+09     1440.0  \n",
       "                  2017-01-17 04:45:59-05:00   1.484646e+09      420.0  \n",
       "                  2017-01-17 04:55:59-05:00   1.484646e+09      540.0  \n",
       "C7:75:13:05:10:EE 2017-01-15 22:12:54-05:00   1.484536e+09      120.0  \n",
       "D8:A1:84:25:FF:B7 2017-01-17 00:05:11-05:00   1.484629e+09      360.0  \n",
       "                  2017-01-17 00:12:11-05:00   1.484630e+09      300.0  \n",
       "                  2017-01-17 00:14:11-05:00   1.484630e+09      120.0  \n",
       "                  2017-01-17 00:20:11-05:00   1.484630e+09      300.0  \n",
       "                  2017-01-17 00:22:11-05:00   1.484630e+09      120.0  \n",
       "                  2017-01-17 00:31:11-05:00   1.484631e+09      480.0  \n",
       "                  2017-01-17 00:36:11-05:00   1.484631e+09      300.0  \n",
       "                  2017-01-17 00:55:11-05:00   1.484631e+09     1140.0  \n",
       "                  2017-01-17 01:10:11-05:00   1.484633e+09      900.0  \n",
       "                  2017-01-17 01:13:11-05:00   1.484633e+09      180.0  "
      ]
     },
     "execution_count": 17,
     "metadata": {},
     "output_type": "execute_result"
    }
   ],
   "source": [
    "gaps"
   ]
  },
  {
   "cell_type": "code",
   "execution_count": 18,
   "metadata": {
    "collapsed": false
   },
   "outputs": [
    {
     "data": {
      "text/plain": [
       "badge_address      datetime                 \n",
       "C7:59:BE:8B:9C:E0  2017-01-17 03:20:59-05:00    1484641259.000\n",
       "Name: timestamp, dtype: object"
      ]
     },
     "execution_count": 18,
     "metadata": {},
     "output_type": "execute_result"
    }
   ],
   "source": [
    "gaps[1:2].timestamp.map('{:.3f}'.format)"
   ]
  },
  {
   "cell_type": "code",
   "execution_count": 19,
   "metadata": {
    "collapsed": false
   },
   "outputs": [
    {
     "data": {
      "text/plain": [
       "badge_address      datetime                 \n",
       "C7:59:BE:8B:9C:E0  2017-01-17 03:49:59-05:00    1484642999.000\n",
       "Name: timestamp, dtype: object"
      ]
     },
     "execution_count": 19,
     "metadata": {},
     "output_type": "execute_result"
    }
   ],
   "source": [
    "gaps[8:9].timestamp.map('{:.3f}'.format)"
   ]
  },
  {
   "cell_type": "code",
   "execution_count": 20,
   "metadata": {
    "collapsed": false
   },
   "outputs": [
    {
     "data": {
      "image/png": "[encoded data removed]",
      "text/plain": [
       "<matplotlib.figure.Figure at 0x7fa7678955d0>"
      ]
     },
     "metadata": {},
     "output_type": "display_data"
    },
    {
     "data": {
      "text/plain": [
       "<ggplot: (8772310832417)>"
      ]
     },
     "execution_count": 20,
     "metadata": {},
     "output_type": "execute_result"
    }
   ],
   "source": [
    "p = ggplot(aes(x='time_diff', fill='badge_address'), data=gaps)\n",
    "p + geom_histogram(binwidth=1)\n",
    "p + geom_density(alpha=0.25) \n",
    "p + ggtitle(\"Gap (sec)\")"
   ]
  },
  {
   "cell_type": "code",
   "execution_count": null,
   "metadata": {
    "collapsed": true
   },
   "outputs": [],
   "source": []
  }
 ],
 "metadata": {
  "kernelspec": {
   "display_name": "Python 2",
   "language": "python",
   "name": "python2"
  },
  "language_info": {
   "codemirror_mode": {
    "name": "ipython",
    "version": 2
   },
   "file_extension": ".py",
   "mimetype": "text/x-python",
   "name": "python",
   "nbconvert_exporter": "python",
   "pygments_lexer": "ipython2",
   "version": "2.7.6"
  }
 },
 "nbformat": 4,
 "nbformat_minor": 0
}
