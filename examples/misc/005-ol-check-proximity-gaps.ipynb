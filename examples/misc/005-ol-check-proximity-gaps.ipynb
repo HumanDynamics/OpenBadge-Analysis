{
 "cells": [
  {
   "cell_type": "code",
   "execution_count": 4,
   "metadata": {
    "collapsed": false
   },
   "outputs": [],
   "source": [
    "from __future__ import division\n",
    "from __future__ import print_function\n",
    "import pandas as pd\n",
    "import bokeh\n",
    "import numpy as np\n",
    "import sys\n",
    "import os\n",
    "\n",
    "from datetime import datetime\n",
    "from datetime import timedelta\n",
    "\n",
    "# add the 'src' directory as one where we can import modules\n",
    "src_dir = os.path.join(os.getcwd(), os.pardir, os.pardir)\n",
    "sys.path.append(src_dir)\n",
    "\n",
    "import read_proximity"
   ]
  },
  {
   "cell_type": "code",
   "execution_count": 5,
   "metadata": {
    "collapsed": false
   },
   "outputs": [
    {
     "name": "stdout",
     "output_type": "stream",
     "text": [
      "The autoreload extension is already loaded. To reload it, use:\n",
      "  %reload_ext autoreload\n"
     ]
    }
   ],
   "source": [
    "# Load the \"autoreload\" extension\n",
    "%load_ext autoreload\n",
    "# always reload modules marked with \"%aimport\"\n",
    "%autoreload 1\n",
    "# list of modules to autoload\n",
    "%aimport read_proximity"
   ]
  },
  {
   "cell_type": "markdown",
   "metadata": {},
   "source": [
    "# check gaps between scans - by resampling to minute interval"
   ]
  },
  {
   "cell_type": "code",
   "execution_count": 16,
   "metadata": {
    "collapsed": false
   },
   "outputs": [
    {
     "name": "stdout",
     "output_type": "stream",
     "text": [
      "12\n",
      "678\n",
      "607\n"
     ]
    }
   ],
   "source": [
    "# test data\n",
    "#test_data = read_proximity.proximity2data(\"../../../../Downloads/prox.txt\")\n",
    "\n",
    "\n",
    "# load file 1\n",
    "pi10_data = read_proximity.proximity2data(\"../../../../Downloads/pi10_log_proximity.txt\")\n",
    "\n",
    "# load file 2\n",
    "pi11_data = read_proximity.proximity2data(\"../../../../Downloads/pi11_log_proximity.txt\")\n",
    "\n",
    "# resample, by minute - that's how often it shoudl have be done\n",
    "# look for nulls?\n"
   ]
  },
  {
   "cell_type": "code",
   "execution_count": 52,
   "metadata": {
    "collapsed": false
   },
   "outputs": [
    {
     "name": "stdout",
     "output_type": "stream",
     "text": [
      "                         badge_address      member\n",
      "datetime                                          \n",
      "2016-10-12 14:15:41  C1:27:66:94:0F:0A  1KO4K0032H\n",
      "2016-10-12 14:16:41  C1:27:66:94:0F:0A  1KO4K0032H\n",
      "2016-10-12 14:17:41  C1:27:66:94:0F:0A  1KO4K0032H\n",
      "2016-10-12 14:17:36  D6:B8:C6:BA:9B:2B  CLZFQZJYW4\n",
      "2016-10-12 14:18:36  D6:B8:C6:BA:9B:2B  CLZFQZJYW4\n",
      "                         badge_address      member\n",
      "datetime                                          \n",
      "2016-10-12 22:47:44  C1:27:66:94:0F:0A  1KO4K0032H\n",
      "2016-10-12 22:48:19  D6:B8:C6:BA:9B:2B  CLZFQZJYW4\n",
      "2016-10-12 22:49:19  D6:B8:C6:BA:9B:2B  CLZFQZJYW4\n",
      "2016-10-12 22:49:44  C1:27:66:94:0F:0A  1KO4K0032H\n",
      "2016-10-12 22:50:19  D6:B8:C6:BA:9B:2B  CLZFQZJYW4\n"
     ]
    }
   ],
   "source": [
    "test_data = pd.concat([pi10_data,pi11_data])\n",
    "print(test_data.head())\n",
    "print(test_data.tail())"
   ]
  },
  {
   "cell_type": "code",
   "execution_count": 53,
   "metadata": {
    "collapsed": false
   },
   "outputs": [],
   "source": [
    "del test_data['member']\n",
    "test_data['exist'] = 1"
   ]
  },
  {
   "cell_type": "code",
   "execution_count": 54,
   "metadata": {
    "collapsed": false
   },
   "outputs": [
    {
     "name": "stdout",
     "output_type": "stream",
     "text": [
      "                         badge_address  exist\n",
      "datetime                                     \n",
      "2016-10-12 14:15:41  C1:27:66:94:0F:0A      1\n",
      "2016-10-12 14:16:41  C1:27:66:94:0F:0A      1\n",
      "2016-10-12 14:17:41  C1:27:66:94:0F:0A      1\n",
      "2016-10-12 14:17:36  D6:B8:C6:BA:9B:2B      1\n",
      "2016-10-12 14:18:36  D6:B8:C6:BA:9B:2B      1\n",
      "2016-10-12 14:18:41  C1:27:66:94:0F:0A      1\n",
      "2016-10-12 14:19:36  D6:B8:C6:BA:9B:2B      1\n",
      "2016-10-12 14:22:37  D6:B8:C6:BA:9B:2B      1\n",
      "2016-10-12 14:22:41  C1:27:66:94:0F:0A      1\n",
      "2016-10-12 14:23:37  D6:B8:C6:BA:9B:2B      1\n"
     ]
    }
   ],
   "source": [
    "grouped = test_data.groupby('badge_address')\n",
    "print(grouped.head())"
   ]
  },
  {
   "cell_type": "code",
   "execution_count": 55,
   "metadata": {
    "collapsed": false
   },
   "outputs": [
    {
     "name": "stdout",
     "output_type": "stream",
     "text": [
      "                                       exist\n",
      "badge_address     datetime                  \n",
      "C1:27:66:94:0F:0A 2016-10-12 14:15:00    1.0\n",
      "                  2016-10-12 14:16:00    2.0\n",
      "                  2016-10-12 14:17:00    1.0\n",
      "                  2016-10-12 14:18:00    1.0\n",
      "                  2016-10-12 14:19:00    1.0\n",
      "                  2016-10-12 14:20:00    1.0\n",
      "                  2016-10-12 14:21:00    1.0\n",
      "                  2016-10-12 14:22:00    1.0\n",
      "                  2016-10-12 14:23:00    1.0\n",
      "                  2016-10-12 14:24:00    1.0\n",
      "                  2016-10-12 14:25:00    1.0\n",
      "                  2016-10-12 14:26:00    1.0\n",
      "                  2016-10-12 14:27:00    2.0\n",
      "                  2016-10-12 14:28:00    1.0\n",
      "                  2016-10-12 14:29:00    1.0\n",
      "                  2016-10-12 14:30:00    1.0\n",
      "                  2016-10-12 14:31:00    1.0\n",
      "                  2016-10-12 14:32:00    1.0\n",
      "                  2016-10-12 14:33:00    1.0\n",
      "                  2016-10-12 14:34:00    1.0\n",
      "                  2016-10-12 14:35:00    1.0\n",
      "                  2016-10-12 14:36:00    1.0\n",
      "                  2016-10-12 14:37:00    1.0\n",
      "                  2016-10-12 14:38:00    1.0\n",
      "                  2016-10-12 14:39:00    1.0\n",
      "                  2016-10-12 14:40:00    2.0\n",
      "                  2016-10-12 14:41:00    1.0\n",
      "                  2016-10-12 14:42:00    1.0\n",
      "                  2016-10-12 14:43:00    1.0\n",
      "                  2016-10-12 14:44:00    1.0\n",
      "...                                      ...\n",
      "D6:B8:C6:BA:9B:2B 2016-10-12 23:48:00    1.0\n",
      "                  2016-10-12 23:49:00    1.0\n",
      "                  2016-10-12 23:50:00    1.0\n",
      "                  2016-10-12 23:51:00    1.0\n",
      "                  2016-10-12 23:52:00    1.0\n",
      "                  2016-10-12 23:53:00    1.0\n",
      "                  2016-10-12 23:54:00    1.0\n",
      "                  2016-10-12 23:55:00    1.0\n",
      "                  2016-10-12 23:56:00    1.0\n",
      "                  2016-10-12 23:57:00    1.0\n",
      "                  2016-10-12 23:58:00    1.0\n",
      "                  2016-10-12 23:59:00    1.0\n",
      "                  2016-10-13 00:00:00    1.0\n",
      "                  2016-10-13 00:01:00    1.0\n",
      "                  2016-10-13 00:02:00    1.0\n",
      "                  2016-10-13 00:03:00    1.0\n",
      "                  2016-10-13 00:04:00    1.0\n",
      "                  2016-10-13 00:05:00    1.0\n",
      "                  2016-10-13 00:06:00    1.0\n",
      "                  2016-10-13 00:07:00    1.0\n",
      "                  2016-10-13 00:08:00    1.0\n",
      "                  2016-10-13 00:09:00    1.0\n",
      "                  2016-10-13 00:10:00    1.0\n",
      "                  2016-10-13 00:11:00    1.0\n",
      "                  2016-10-13 00:12:00    1.0\n",
      "                  2016-10-13 00:13:00    1.0\n",
      "                  2016-10-13 00:14:00    1.0\n",
      "                  2016-10-13 00:15:00    1.0\n",
      "                  2016-10-13 00:16:00    1.0\n",
      "                  2016-10-13 00:17:00    1.0\n",
      "\n",
      "[1205 rows x 1 columns]\n"
     ]
    }
   ],
   "source": [
    "df_resampled = grouped.resample(rule='60S').sum()\n",
    "print(df_resampled)"
   ]
  },
  {
   "cell_type": "code",
   "execution_count": 56,
   "metadata": {
    "collapsed": false
   },
   "outputs": [
    {
     "name": "stdout",
     "output_type": "stream",
     "text": [
      "1205\n",
      "81\n",
      "1204\n"
     ]
    }
   ],
   "source": [
    "print(len(df_resampled))\n",
    "print(len(df_resampled[df_resampled['exist']>1.0]))\n",
    "print(len(df_resampled[df_resampled['exist'].notnull()]))"
   ]
  },
  {
   "cell_type": "code",
   "execution_count": 57,
   "metadata": {
    "collapsed": false
   },
   "outputs": [
    {
     "data": {
      "text/html": [
       "<div>\n",
       "<table border=\"1\" class=\"dataframe\">\n",
       "  <thead>\n",
       "    <tr style=\"text-align: right;\">\n",
       "      <th></th>\n",
       "      <th></th>\n",
       "      <th>exist</th>\n",
       "    </tr>\n",
       "    <tr>\n",
       "      <th>badge_address</th>\n",
       "      <th>datetime</th>\n",
       "      <th></th>\n",
       "    </tr>\n",
       "  </thead>\n",
       "  <tbody>\n",
       "    <tr>\n",
       "      <th>D6:B8:C6:BA:9B:2B</th>\n",
       "      <th>2016-10-12 19:50:00</th>\n",
       "      <td>NaN</td>\n",
       "    </tr>\n",
       "  </tbody>\n",
       "</table>\n",
       "</div>"
      ],
      "text/plain": [
       "                                       exist\n",
       "badge_address     datetime                  \n",
       "D6:B8:C6:BA:9B:2B 2016-10-12 19:50:00    NaN"
      ]
     },
     "execution_count": 57,
     "metadata": {},
     "output_type": "execute_result"
    }
   ],
   "source": [
    "df_resampled[df_resampled['exist'].isnull()]"
   ]
  },
  {
   "cell_type": "code",
   "execution_count": 58,
   "metadata": {
    "collapsed": true
   },
   "outputs": [],
   "source": [
    "# so, there is only one missing minute. However, this might be a result of innacuracies in when scans are done/saved\n",
    "# a better approach might be to check the time between samples?"
   ]
  },
  {
   "cell_type": "markdown",
   "metadata": {},
   "source": [
    "# check time between samples"
   ]
  },
  {
   "cell_type": "code",
   "execution_count": 60,
   "metadata": {
    "collapsed": false
   },
   "outputs": [],
   "source": [
    "# group by badge\n",
    "# remove duplicates\n",
    "# look at code from other tests for how I check for time between samples?"
   ]
  },
  {
   "cell_type": "code",
   "execution_count": null,
   "metadata": {
    "collapsed": true
   },
   "outputs": [],
   "source": []
  }
 ],
 "metadata": {
  "kernelspec": {
   "display_name": "Python 2",
   "language": "python",
   "name": "python2"
  },
  "language_info": {
   "codemirror_mode": {
    "name": "ipython",
    "version": 2
   },
   "file_extension": ".py",
   "mimetype": "text/x-python",
   "name": "python",
   "nbconvert_exporter": "python",
   "pygments_lexer": "ipython2",
   "version": "2.7.6"
  }
 },
 "nbformat": 4,
 "nbformat_minor": 0
}
